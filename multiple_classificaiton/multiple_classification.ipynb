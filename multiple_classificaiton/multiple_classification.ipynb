{
 "cells": [
  {
   "cell_type": "code",
   "execution_count": 2,
   "id": "initial_id",
   "metadata": {
    "collapsed": true,
    "ExecuteTime": {
     "end_time": "2024-03-27T15:11:41.704729Z",
     "start_time": "2024-03-27T15:11:38.318767700Z"
    }
   },
   "outputs": [],
   "source": [
    "import pandas as pd\n",
    "from main import pre_process_data, ANN\n",
    "import numpy as np\n",
    "from sklearn.datasets import load_wine\n",
    "from sklearn.model_selection import train_test_split\n",
    "\n",
    "import matplotlib.pyplot as plt"
   ]
  },
  {
   "cell_type": "code",
   "execution_count": 3,
   "outputs": [],
   "source": [
    "def min_max_scaler(series):\n",
    "    normalized = (series - min(series)) / (max(series)-min(series))\n",
    "    return normalized"
   ],
   "metadata": {
    "collapsed": false,
    "ExecuteTime": {
     "end_time": "2024-03-27T15:11:41.718700100Z",
     "start_time": "2024-03-27T15:11:41.707733700Z"
    }
   }
  },
  {
   "cell_type": "code",
   "execution_count": null,
   "outputs": [],
   "source": [],
   "metadata": {
    "collapsed": false
   }
  },
  {
   "cell_type": "code",
   "execution_count": 4,
   "outputs": [
    {
     "name": "stdout",
     "output_type": "stream",
     "text": [
      "Requirement already satisfied: python-mnist in c:\\users\\maicol.nicolini\\appdata\\local\\programs\\python\\python311\\lib\\site-packages (0.7)\n"
     ]
    },
    {
     "name": "stderr",
     "output_type": "stream",
     "text": [
      "\n",
      "[notice] A new release of pip is available: 23.0.1 -> 24.0\n",
      "[notice] To update, run: C:\\Users\\maicol.nicolini\\AppData\\Local\\Programs\\Python\\Python311\\python.exe -m pip install --upgrade pip\n"
     ]
    }
   ],
   "source": [
    "! pip install python-mnist"
   ],
   "metadata": {
    "collapsed": false,
    "ExecuteTime": {
     "end_time": "2024-03-27T15:01:29.665085Z",
     "start_time": "2024-03-27T15:01:25.378874600Z"
    }
   }
  },
  {
   "cell_type": "markdown",
   "source": [
    "# Example 1: Simple multiple classification"
   ],
   "metadata": {
    "collapsed": false
   }
  },
  {
   "cell_type": "code",
   "execution_count": 5,
   "outputs": [],
   "source": [
    "data = load_wine()\n",
    "features = pd.DataFrame(data=data.data, columns=data.feature_names)\n",
    "target = pd.DataFrame(data=data.target, columns=['class'])\n",
    "df = pd.concat([features, target], axis=1)"
   ],
   "metadata": {
    "collapsed": false,
    "ExecuteTime": {
     "end_time": "2024-03-27T15:01:29.669626400Z",
     "start_time": "2024-03-27T15:01:29.649920800Z"
    }
   }
  },
  {
   "cell_type": "code",
   "execution_count": 6,
   "outputs": [],
   "source": [
    "for col in features.columns:\n",
    "    features[col] = min_max_scaler(features[col])"
   ],
   "metadata": {
    "collapsed": false,
    "ExecuteTime": {
     "end_time": "2024-03-27T15:01:29.687007600Z",
     "start_time": "2024-03-27T15:01:29.667948100Z"
    }
   }
  },
  {
   "cell_type": "code",
   "execution_count": 7,
   "outputs": [
    {
     "name": "stderr",
     "output_type": "stream",
     "text": [
      "C:\\Users\\maicol.nicolini\\AppData\\Local\\Programs\\Python\\Python311\\Lib\\site-packages\\sklearn\\preprocessing\\_encoders.py:868: FutureWarning: `sparse` was renamed to `sparse_output` in version 1.2 and will be removed in 1.4. `sparse_output` is ignored unless you leave `sparse` to its default value.\n",
      "  warnings.warn(\n"
     ]
    }
   ],
   "source": [
    "# Train - Test Split\n",
    "train_x, test_x, train_y, test_y = train_test_split(features, target, test_size=0.33, random_state=42)\n",
    "train_x, train_y, test_x, test_y = pre_process_data(train_x.to_numpy(), train_y.to_numpy(), test_x.to_numpy(), test_y.to_numpy())\n"
   ],
   "metadata": {
    "collapsed": false,
    "ExecuteTime": {
     "end_time": "2024-03-27T15:01:29.693106900Z",
     "start_time": "2024-03-27T15:01:29.680877100Z"
    }
   }
  },
  {
   "cell_type": "code",
   "execution_count": 26,
   "outputs": [
    {
     "name": "stdout",
     "output_type": "stream",
     "text": [
      "train_x's shape: (119, 13)\n",
      "test_x's shape: (59, 13)\n",
      "Cost:  46.45125332791204 Train Accuracy: 39.49579831932773\n",
      "Cost:  43.99241595133114 Train Accuracy: 39.49579831932773\n",
      "Cost:  43.99241394627742 Train Accuracy: 39.49579831932773\n",
      "Cost:  43.99241394384265 Train Accuracy: 39.49579831932773\n",
      "Cost:  43.99241394145405 Train Accuracy: 39.49579831932773\n",
      "Cost:  43.99241393910665 Train Accuracy: 39.49579831932773\n",
      "Cost:  43.99241393680041 Train Accuracy: 39.49579831932773\n",
      "Cost:  43.99241393453537 Train Accuracy: 39.49579831932773\n",
      "Cost:  43.99241393231155 Train Accuracy: 39.49579831932773\n",
      "Cost:  43.99241393012897 Train Accuracy: 39.49579831932773\n",
      "Train Accuracy: 39.49579831932773\n",
      "Test Accuracy: 40.67796610169492\n"
     ]
    },
    {
     "data": {
      "text/plain": "<Figure size 640x480 with 1 Axes>",
      "image/png": "[encoded data removed]"
     },
     "metadata": {},
     "output_type": "display_data"
    }
   ],
   "source": [
    "print(\"train_x's shape: \" + str(train_x.shape))\n",
    "print(\"test_x's shape: \" + str(test_x.shape))\n",
    "\n",
    "layers_dims = [train_x.shape[1], 10, 3]\n",
    "\n",
    "ann = ANN(layers_dims)\n",
    "ann.fit(train_x, train_y, learning_rate=1e-1, n_iterations=1000)\n",
    "print(\"Train Accuracy:\", ann.predict(train_x, train_y))\n",
    "print(\"Test Accuracy:\", ann.predict(test_x, test_y))\n",
    "ann.plot_cost()"
   ],
   "metadata": {
    "collapsed": false,
    "ExecuteTime": {
     "end_time": "2024-03-27T14:58:58.852084Z",
     "start_time": "2024-03-27T14:58:58.503926200Z"
    }
   }
  },
  {
   "cell_type": "code",
   "execution_count": 4,
   "outputs": [],
   "source": [
    "from keras.datasets import mnist"
   ],
   "metadata": {
    "collapsed": false,
    "ExecuteTime": {
     "end_time": "2024-03-27T15:11:55.355460100Z",
     "start_time": "2024-03-27T15:11:50.646338100Z"
    }
   }
  },
  {
   "cell_type": "code",
   "execution_count": null,
   "outputs": [],
   "source": [
    "! pip uninstall tensorflow"
   ],
   "metadata": {
    "collapsed": false,
    "is_executing": true,
    "ExecuteTime": {
     "start_time": "2024-03-27T15:14:21.912116500Z"
    }
   }
  },
  {
   "cell_type": "code",
   "execution_count": 11,
   "outputs": [
    {
     "data": {
      "text/plain": "(60000, 10)"
     },
     "execution_count": 11,
     "metadata": {},
     "output_type": "execute_result"
    }
   ],
   "source": [
    "train_y.shape"
   ],
   "metadata": {
    "collapsed": false,
    "ExecuteTime": {
     "end_time": "2024-03-27T15:14:04.598619300Z",
     "start_time": "2024-03-27T15:14:04.584339700Z"
    }
   }
  },
  {
   "cell_type": "code",
   "execution_count": 10,
   "outputs": [
    {
     "name": "stderr",
     "output_type": "stream",
     "text": [
      "C:\\Users\\maicol.nicolini\\AppData\\Local\\Programs\\Python\\Python311\\Lib\\site-packages\\sklearn\\preprocessing\\_encoders.py:868: FutureWarning: `sparse` was renamed to `sparse_output` in version 1.2 and will be removed in 1.4. `sparse_output` is ignored unless you leave `sparse` to its default value.\n",
      "  warnings.warn(\n"
     ]
    },
    {
     "name": "stdout",
     "output_type": "stream",
     "text": [
      "train_x's shape: (60000, 28, 28)\n",
      "test_x's shape: (10000, 28, 28)\n"
     ]
    },
    {
     "ename": "MemoryError",
     "evalue": "Unable to allocate 9.81 GiB for an array with shape (784, 28, 60000) and data type float64",
     "output_type": "error",
     "traceback": [
      "\u001B[1;31m---------------------------------------------------------------------------\u001B[0m",
      "\u001B[1;31mMemoryError\u001B[0m                               Traceback (most recent call last)",
      "Cell \u001B[1;32mIn[10], line 11\u001B[0m\n\u001B[0;32m      8\u001B[0m layers_dims \u001B[38;5;241m=\u001B[39m [\u001B[38;5;241m28\u001B[39m\u001B[38;5;241m*\u001B[39m\u001B[38;5;241m28\u001B[39m, \u001B[38;5;241m10\u001B[39m]\n\u001B[0;32m     10\u001B[0m ann \u001B[38;5;241m=\u001B[39m ANN(layers_dims)\n\u001B[1;32m---> 11\u001B[0m \u001B[43mann\u001B[49m\u001B[38;5;241;43m.\u001B[39;49m\u001B[43mfit\u001B[49m\u001B[43m(\u001B[49m\u001B[43mtrain_x\u001B[49m\u001B[43m,\u001B[49m\u001B[43m \u001B[49m\u001B[43mtrain_y\u001B[49m\u001B[43m,\u001B[49m\u001B[43m \u001B[49m\u001B[43mlearning_rate\u001B[49m\u001B[38;5;241;43m=\u001B[39;49m\u001B[38;5;241;43m0.1\u001B[39;49m\u001B[43m,\u001B[49m\u001B[43m \u001B[49m\u001B[43mn_iterations\u001B[49m\u001B[38;5;241;43m=\u001B[39;49m\u001B[38;5;241;43m1000\u001B[39;49m\u001B[43m)\u001B[49m\n\u001B[0;32m     12\u001B[0m \u001B[38;5;28mprint\u001B[39m(\u001B[38;5;124m\"\u001B[39m\u001B[38;5;124mTrain Accuracy:\u001B[39m\u001B[38;5;124m\"\u001B[39m, ann\u001B[38;5;241m.\u001B[39mpredict(train_x, train_y))\n\u001B[0;32m     13\u001B[0m \u001B[38;5;28mprint\u001B[39m(\u001B[38;5;124m\"\u001B[39m\u001B[38;5;124mTest Accuracy:\u001B[39m\u001B[38;5;124m\"\u001B[39m, ann\u001B[38;5;241m.\u001B[39mpredict(test_x, test_y))\n",
      "File \u001B[1;32m~\\Documents\\Code\\learning\\neural-network-from-scratch\\multiple_classificaiton\\main.py:89\u001B[0m, in \u001B[0;36mANN.fit\u001B[1;34m(self, X, Y, learning_rate, n_iterations)\u001B[0m\n\u001B[0;32m     87\u001B[0m \u001B[38;5;28mself\u001B[39m\u001B[38;5;241m.\u001B[39minitialize_parameters()\n\u001B[0;32m     88\u001B[0m \u001B[38;5;28;01mfor\u001B[39;00m loop \u001B[38;5;129;01min\u001B[39;00m \u001B[38;5;28mrange\u001B[39m(n_iterations):\n\u001B[1;32m---> 89\u001B[0m     A, store \u001B[38;5;241m=\u001B[39m \u001B[38;5;28;43mself\u001B[39;49m\u001B[38;5;241;43m.\u001B[39;49m\u001B[43mforward\u001B[49m\u001B[43m(\u001B[49m\u001B[43mX\u001B[49m\u001B[43m)\u001B[49m\n\u001B[0;32m     90\u001B[0m     cost \u001B[38;5;241m=\u001B[39m \u001B[38;5;241m-\u001B[39mnp\u001B[38;5;241m.\u001B[39mmean(np\u001B[38;5;241m.\u001B[39mdot(Y, np\u001B[38;5;241m.\u001B[39mlog(A)))\n\u001B[0;32m     91\u001B[0m     derivatives \u001B[38;5;241m=\u001B[39m \u001B[38;5;28mself\u001B[39m\u001B[38;5;241m.\u001B[39mbackward(X, Y, store)\n",
      "File \u001B[1;32m~\\Documents\\Code\\learning\\neural-network-from-scratch\\multiple_classificaiton\\main.py:34\u001B[0m, in \u001B[0;36mANN.forward\u001B[1;34m(self, X)\u001B[0m\n\u001B[0;32m     31\u001B[0m A \u001B[38;5;241m=\u001B[39m X\u001B[38;5;241m.\u001B[39mT\n\u001B[0;32m     33\u001B[0m \u001B[38;5;28;01mfor\u001B[39;00m l \u001B[38;5;129;01min\u001B[39;00m \u001B[38;5;28mrange\u001B[39m(\u001B[38;5;28mself\u001B[39m\u001B[38;5;241m.\u001B[39mL \u001B[38;5;241m-\u001B[39m \u001B[38;5;241m1\u001B[39m):\n\u001B[1;32m---> 34\u001B[0m     Z \u001B[38;5;241m=\u001B[39m \u001B[38;5;28;43mself\u001B[39;49m\u001B[38;5;241;43m.\u001B[39;49m\u001B[43mparameters\u001B[49m\u001B[43m[\u001B[49m\u001B[38;5;124;43m\"\u001B[39;49m\u001B[38;5;124;43mW\u001B[39;49m\u001B[38;5;124;43m\"\u001B[39;49m\u001B[43m \u001B[49m\u001B[38;5;241;43m+\u001B[39;49m\u001B[43m \u001B[49m\u001B[38;5;28;43mstr\u001B[39;49m\u001B[43m(\u001B[49m\u001B[43ml\u001B[49m\u001B[43m \u001B[49m\u001B[38;5;241;43m+\u001B[39;49m\u001B[43m \u001B[49m\u001B[38;5;241;43m1\u001B[39;49m\u001B[43m)\u001B[49m\u001B[43m]\u001B[49m\u001B[38;5;241;43m.\u001B[39;49m\u001B[43mdot\u001B[49m\u001B[43m(\u001B[49m\u001B[43mA\u001B[49m\u001B[43m)\u001B[49m \u001B[38;5;241m+\u001B[39m \u001B[38;5;28mself\u001B[39m\u001B[38;5;241m.\u001B[39mparameters[\u001B[38;5;124m\"\u001B[39m\u001B[38;5;124mb\u001B[39m\u001B[38;5;124m\"\u001B[39m \u001B[38;5;241m+\u001B[39m \u001B[38;5;28mstr\u001B[39m(l \u001B[38;5;241m+\u001B[39m \u001B[38;5;241m1\u001B[39m)]\n\u001B[0;32m     35\u001B[0m     A \u001B[38;5;241m=\u001B[39m \u001B[38;5;28mself\u001B[39m\u001B[38;5;241m.\u001B[39msigmoid(Z)\n\u001B[0;32m     36\u001B[0m     store[\u001B[38;5;124m\"\u001B[39m\u001B[38;5;124mA\u001B[39m\u001B[38;5;124m\"\u001B[39m \u001B[38;5;241m+\u001B[39m \u001B[38;5;28mstr\u001B[39m(l \u001B[38;5;241m+\u001B[39m \u001B[38;5;241m1\u001B[39m)] \u001B[38;5;241m=\u001B[39m A\n",
      "\u001B[1;31mMemoryError\u001B[0m: Unable to allocate 9.81 GiB for an array with shape (784, 28, 60000) and data type float64"
     ]
    }
   ],
   "source": [
    "(train_x, train_y), (test_x, test_y) = mnist.load_data()\n",
    "\n",
    "train_x, train_y, test_x, test_y = pre_process_data(train_x, train_y, test_x, test_y)\n",
    "\n",
    "print(\"train_x's shape: \" + str(train_x.shape))\n",
    "print(\"test_x's shape: \" + str(test_x.shape))\n",
    "\n",
    "layers_dims = [28*28, 10]\n",
    "\n",
    "ann = ANN(layers_dims)\n",
    "ann.fit(train_x, train_y, learning_rate=0.1, n_iterations=1000)\n",
    "print(\"Train Accuracy:\", ann.predict(train_x, train_y))\n",
    "print(\"Test Accuracy:\", ann.predict(test_x, test_y))\n",
    "ann.plot_cost()"
   ],
   "metadata": {
    "collapsed": false,
    "ExecuteTime": {
     "end_time": "2024-03-27T15:13:48.788846200Z",
     "start_time": "2024-03-27T15:13:47.533719100Z"
    }
   }
  }
 ],
 "metadata": {
  "kernelspec": {
   "display_name": "Python 3",
   "language": "python",
   "name": "python3"
  },
  "language_info": {
   "codemirror_mode": {
    "name": "ipython",
    "version": 2
   },
   "file_extension": ".py",
   "mimetype": "text/x-python",
   "name": "python",
   "nbconvert_exporter": "python",
   "pygments_lexer": "ipython2",
   "version": "2.7.6"
  }
 },
 "nbformat": 4,
 "nbformat_minor": 5
}
