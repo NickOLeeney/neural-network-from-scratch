{
 "cells": [
  {
   "cell_type": "code",
   "execution_count": 1,
   "id": "initial_id",
   "metadata": {
    "collapsed": true,
    "ExecuteTime": {
     "end_time": "2024-03-15T10:41:12.418190100Z",
     "start_time": "2024-03-15T10:41:09.838256100Z"
    }
   },
   "outputs": [],
   "source": [
    "import pandas as pd\n",
    "from neuralNetworkFromScratch import NeuralNetworkFromScratch\n",
    "import h5py\n",
    "from PIL import Image\n",
    "import numpy as np\n",
    "from sklearn.datasets import load_wine\n",
    "from sklearn.model_selection import train_test_split\n",
    "\n",
    "import matplotlib.pyplot as plt"
   ]
  },
  {
   "cell_type": "code",
   "execution_count": 2,
   "outputs": [],
   "source": [
    "def min_max_scaler(series):\n",
    "    normalized = (series - min(series)) / (max(series)-min(series))\n",
    "    return normalized"
   ],
   "metadata": {
    "collapsed": false,
    "ExecuteTime": {
     "end_time": "2024-03-15T10:41:12.422371600Z",
     "start_time": "2024-03-15T10:41:12.421856700Z"
    }
   }
  },
  {
   "cell_type": "markdown",
   "source": [
    "# Example 1: Simple binary classification"
   ],
   "metadata": {
    "collapsed": false
   }
  },
  {
   "cell_type": "code",
   "execution_count": 3,
   "outputs": [],
   "source": [
    "data = load_wine()\n",
    "features = pd.DataFrame(data=data.data, columns=data.feature_names)\n",
    "target = pd.DataFrame(data=data.target, columns=['class'])\n",
    "df = pd.concat([features, target], axis=1)\n",
    "\n",
    "# Dropping one class for binary classification\n",
    "df = df[df['class'] != 2]\n",
    "features = df.drop('class', axis=1)\n",
    "target = df[['class']]"
   ],
   "metadata": {
    "collapsed": false,
    "ExecuteTime": {
     "end_time": "2024-03-15T10:41:12.457331400Z",
     "start_time": "2024-03-15T10:41:12.422371600Z"
    }
   }
  },
  {
   "cell_type": "code",
   "execution_count": 4,
   "outputs": [],
   "source": [
    "for col in features.columns:\n",
    "    features[col] = min_max_scaler(features[col])"
   ],
   "metadata": {
    "collapsed": false,
    "ExecuteTime": {
     "end_time": "2024-03-15T10:41:12.467586700Z",
     "start_time": "2024-03-15T10:41:12.460929600Z"
    }
   }
  },
  {
   "cell_type": "code",
   "execution_count": 5,
   "outputs": [],
   "source": [
    "# Train - Test Split\n",
    "train_x, test_x, train_y, test_y = train_test_split(features, target, test_size=0.33, random_state=42)"
   ],
   "metadata": {
    "collapsed": false,
    "ExecuteTime": {
     "end_time": "2024-03-15T10:41:12.476236500Z",
     "start_time": "2024-03-15T10:41:12.468543Z"
    }
   }
  },
  {
   "cell_type": "markdown",
   "source": [
    "## 3. Prediction"
   ],
   "metadata": {
    "collapsed": false
   }
  },
  {
   "cell_type": "code",
   "execution_count": 6,
   "outputs": [],
   "source": [
    "model = NeuralNetworkFromScratch(layers_dims=[train_x.shape[1], 4, 2, 1], task='binary_classification', learning_rate=1e-1, n_epochs=10000, print_cost=True, lambd=None, initialization='He')"
   ],
   "metadata": {
    "collapsed": false,
    "ExecuteTime": {
     "end_time": "2024-03-15T10:41:12.482993800Z",
     "start_time": "2024-03-15T10:41:12.476236500Z"
    }
   }
  },
  {
   "cell_type": "code",
   "execution_count": 10,
   "outputs": [
    {
     "name": "stdout",
     "output_type": "stream",
     "text": [
      "\u001B[92mYour backward propagation works perfectly fine! difference = 6.529591671441861e-09\u001B[0m\n",
      "Cost after iteration 0: 0.7249587588739876\n",
      "\u001B[92mYour backward propagation works perfectly fine! difference = 1.757875881336853e-08\u001B[0m\n",
      "Cost after iteration 1000: 0.004007832660210727\n",
      "\u001B[92mYour backward propagation works perfectly fine! difference = 4.3821568994574686e-08\u001B[0m\n",
      "Cost after iteration 2000: 0.0013864289788903575\n",
      "\u001B[92mYour backward propagation works perfectly fine! difference = 7.449373959287486e-08\u001B[0m\n",
      "Cost after iteration 3000: 0.0007874101789621507\n",
      "\u001B[92mYour backward propagation works perfectly fine! difference = 1.023595059268773e-07\u001B[0m\n",
      "Cost after iteration 4000: 0.000534093743686683\n",
      "\u001B[92mYour backward propagation works perfectly fine! difference = 1.1512556846556827e-07\u001B[0m\n",
      "Cost after iteration 5000: 0.0003974866221346804\n",
      "\u001B[92mYour backward propagation works perfectly fine! difference = 1.709898965641647e-07\u001B[0m\n",
      "Cost after iteration 6000: 0.0003131745697128625\n",
      "\u001B[92mYour backward propagation works perfectly fine! difference = 1.7022218357843735e-07\u001B[0m\n",
      "Cost after iteration 7000: 0.0002564057729883562\n",
      "\u001B[93mThere is a mistake in the backward propagation! difference = 2.3512995670324359e-07\u001B[0m\n",
      "Cost after iteration 8000: 0.00021585583899756924\n",
      "\u001B[93mThere is a mistake in the backward propagation! difference = 2.1356993454311787e-07\u001B[0m\n",
      "Cost after iteration 9000: 0.0001855947922896617\n",
      "Cost after iteration 9999: 0.00016225910070338055\n"
     ]
    },
    {
     "data": {
      "text/plain": "<Figure size 640x480 with 1 Axes>",
      "image/png": "[encoded data removed]"
     },
     "metadata": {},
     "output_type": "display_data"
    }
   ],
   "source": [
    "parameters, costs = model.fit(train_x, train_y, print_every=1000, plot_cost_function=True, debug=1000)"
   ],
   "metadata": {
    "collapsed": false,
    "ExecuteTime": {
     "end_time": "2024-03-15T10:41:53.986442500Z",
     "start_time": "2024-03-15T10:41:50.996515600Z"
    }
   }
  },
  {
   "cell_type": "code",
   "execution_count": 8,
   "outputs": [
    {
     "name": "stdout",
     "output_type": "stream",
     "text": [
      "Accuracy: 0.9999999999999999\n"
     ]
    }
   ],
   "source": [
    "pred_train = model.predict(train_x, train_y)"
   ],
   "metadata": {
    "collapsed": false,
    "ExecuteTime": {
     "end_time": "2024-03-13T07:59:08.568262400Z",
     "start_time": "2024-03-13T07:59:08.534351600Z"
    }
   }
  },
  {
   "cell_type": "code",
   "execution_count": 9,
   "outputs": [
    {
     "name": "stdout",
     "output_type": "stream",
     "text": [
      "Accuracy: 0.9767441860465118\n"
     ]
    }
   ],
   "source": [
    "pred = model.predict(test_x, test_y)"
   ],
   "metadata": {
    "collapsed": false,
    "ExecuteTime": {
     "end_time": "2024-03-13T07:59:08.569628Z",
     "start_time": "2024-03-13T07:59:08.541301800Z"
    }
   }
  },
  {
   "cell_type": "markdown",
   "source": [
    "# Example 2: Image recognition"
   ],
   "metadata": {
    "collapsed": false
   }
  },
  {
   "cell_type": "markdown",
   "source": [
    "## 1. Imports"
   ],
   "metadata": {
    "collapsed": false
   }
  },
  {
   "cell_type": "code",
   "execution_count": 3,
   "outputs": [],
   "source": [
    "def load_data():\n",
    "    train_dataset = h5py.File('../data/train_catvnoncat.h5', \"r\")\n",
    "    train_set_x_orig = np.array(train_dataset[\"train_set_x\"][:]) # your train set features\n",
    "    train_set_y_orig = np.array(train_dataset[\"train_set_y\"][:]) # your train set labels\n",
    "\n",
    "    test_dataset = h5py.File('../data/test_catvnoncat.h5', \"r\")\n",
    "    test_set_x_orig = np.array(test_dataset[\"test_set_x\"][:]) # your test set features\n",
    "    test_set_y_orig = np.array(test_dataset[\"test_set_y\"][:]) # your test set labels\n",
    "\n",
    "    classes = np.array(test_dataset[\"list_classes\"][:]) # the list of classes\n",
    "\n",
    "    train_set_y_orig = train_set_y_orig.reshape((1, train_set_y_orig.shape[0]))\n",
    "    test_set_y_orig = test_set_y_orig.reshape((1, test_set_y_orig.shape[0]))\n",
    "\n",
    "    return train_set_x_orig, train_set_y_orig, test_set_x_orig, test_set_y_orig, classes"
   ],
   "metadata": {
    "collapsed": false,
    "ExecuteTime": {
     "end_time": "2024-03-15T09:40:12.402984200Z",
     "start_time": "2024-03-15T09:40:12.369741600Z"
    }
   },
   "id": "54f771ead2ec428a"
  },
  {
   "cell_type": "code",
   "execution_count": 4,
   "outputs": [],
   "source": [
    "train_x_orig, train_y, test_x_orig, test_y, classes = load_data()"
   ],
   "metadata": {
    "collapsed": false,
    "ExecuteTime": {
     "end_time": "2024-03-15T09:40:12.447068Z",
     "start_time": "2024-03-15T09:40:12.393152Z"
    }
   },
   "id": "9d55fe52e0b07258"
  },
  {
   "cell_type": "code",
   "execution_count": 5,
   "outputs": [
    {
     "name": "stdout",
     "output_type": "stream",
     "text": [
      "y = 0. It's a non-cat picture.\n"
     ]
    },
    {
     "data": {
      "text/plain": "<Figure size 640x480 with 1 Axes>",
      "image/png": "[encoded data removed]"
     },
     "metadata": {},
     "output_type": "display_data"
    }
   ],
   "source": [
    "# Example of a picture\n",
    "index = 10\n",
    "plt.imshow(train_x_orig[index])\n",
    "print (\"y = \" + str(train_y[0,index]) + \". It's a \" + classes[train_y[0,index]].decode(\"utf-8\") +  \" picture.\")"
   ],
   "metadata": {
    "collapsed": false,
    "ExecuteTime": {
     "end_time": "2024-03-15T09:40:12.695391900Z",
     "start_time": "2024-03-15T09:40:12.437563800Z"
    }
   },
   "id": "eea1173c2ccbc8ad"
  },
  {
   "cell_type": "markdown",
   "source": [
    "## 2. Preprocessing"
   ],
   "metadata": {
    "collapsed": false
   },
   "id": "91b4343e2b500e60"
  },
  {
   "cell_type": "code",
   "execution_count": 6,
   "outputs": [
    {
     "name": "stdout",
     "output_type": "stream",
     "text": [
      "train_x's shape: (12288, 209)\n",
      "test_x's shape: (12288, 50)\n"
     ]
    }
   ],
   "source": [
    "# Reshape the training and test examples \n",
    "train_x_flatten = train_x_orig.reshape(train_x_orig.shape[0], -1).T   # The \"-1\" makes reshape flatten the remaining dimensions\n",
    "test_x_flatten = test_x_orig.reshape(test_x_orig.shape[0], -1).T\n",
    "\n",
    "# Standardize data to have feature values between 0 and 1.\n",
    "train_x = train_x_flatten/255.\n",
    "test_x = test_x_flatten/255.\n",
    "\n",
    "print (\"train_x's shape: \" + str(train_x.shape))\n",
    "print (\"test_x's shape: \" + str(test_x.shape))"
   ],
   "metadata": {
    "collapsed": false,
    "ExecuteTime": {
     "end_time": "2024-03-15T09:40:12.757361700Z",
     "start_time": "2024-03-15T09:40:12.700344Z"
    }
   },
   "id": "45a85bfb2e31ab1a"
  },
  {
   "cell_type": "markdown",
   "source": [
    "## 3. Training"
   ],
   "metadata": {
    "collapsed": false
   },
   "id": "1f0db98b765313ce"
  },
  {
   "cell_type": "code",
   "execution_count": 7,
   "outputs": [],
   "source": [
    "model = NeuralNetworkFromScratch(layers_dims=[12288, 20, 7, 5, 1], task='binary_classification', learning_rate=0.0075, n_epochs=3000, print_cost=True, initialization='Xavier', lambd=None, keep_prob=1)"
   ],
   "metadata": {
    "collapsed": false,
    "ExecuteTime": {
     "end_time": "2024-03-15T09:40:12.757361700Z",
     "start_time": "2024-03-15T09:40:12.725690100Z"
    }
   },
   "id": "1e9fddefb7a816dc"
  },
  {
   "cell_type": "code",
   "execution_count": 8,
   "outputs": [
    {
     "name": "stderr",
     "output_type": "stream",
     "text": [
      "\n",
      "KeyboardInterrupt\n",
      "\n"
     ]
    }
   ],
   "source": [
    "parameters, costs = model.fit(train_x, train_y, plot_cost_function=True)"
   ],
   "metadata": {
    "collapsed": false
   },
   "id": "c12e4be7b4bb2b36"
  },
  {
   "cell_type": "code",
   "execution_count": 23,
   "outputs": [
    {
     "name": "stdout",
     "output_type": "stream",
     "text": [
      "Accuracy: 0.9904306220095692\n"
     ]
    }
   ],
   "source": [
    "pred_train = model.predict(train_x, train_y)"
   ],
   "metadata": {
    "collapsed": false,
    "ExecuteTime": {
     "end_time": "2024-03-13T09:51:27.865386200Z",
     "start_time": "2024-03-13T09:51:27.833698700Z"
    }
   },
   "id": "bb2f6ca55bc03f6b"
  },
  {
   "cell_type": "markdown",
   "source": [
    "## 4. Inference"
   ],
   "metadata": {
    "collapsed": false
   }
  },
  {
   "cell_type": "code",
   "execution_count": 24,
   "outputs": [
    {
     "name": "stdout",
     "output_type": "stream",
     "text": [
      "Accuracy: 0.6200000000000001\n"
     ]
    }
   ],
   "source": [
    "pred_test = model.predict(test_x, test_y)"
   ],
   "metadata": {
    "collapsed": false,
    "ExecuteTime": {
     "end_time": "2024-03-13T09:51:32.478374600Z",
     "start_time": "2024-03-13T09:51:32.446194600Z"
    }
   }
  },
  {
   "cell_type": "code",
   "execution_count": 13,
   "outputs": [
    {
     "ename": "NameError",
     "evalue": "name 'np' is not defined",
     "output_type": "error",
     "traceback": [
      "\u001B[1;31m---------------------------------------------------------------------------\u001B[0m",
      "\u001B[1;31mNameError\u001B[0m                                 Traceback (most recent call last)",
      "Cell \u001B[1;32mIn[13], line 6\u001B[0m\n\u001B[0;32m      3\u001B[0m num_px \u001B[38;5;241m=\u001B[39m \u001B[38;5;241m64\u001B[39m\n\u001B[0;32m      5\u001B[0m fname \u001B[38;5;241m=\u001B[39m \u001B[38;5;124m\"\u001B[39m\u001B[38;5;124m../data/\u001B[39m\u001B[38;5;124m\"\u001B[39m \u001B[38;5;241m+\u001B[39m my_image\n\u001B[1;32m----> 6\u001B[0m image \u001B[38;5;241m=\u001B[39m \u001B[43mnp\u001B[49m\u001B[38;5;241m.\u001B[39marray(Image\u001B[38;5;241m.\u001B[39mopen(fname)\u001B[38;5;241m.\u001B[39mresize((num_px, num_px)))\n\u001B[0;32m      7\u001B[0m plt\u001B[38;5;241m.\u001B[39mimshow(image)\n\u001B[0;32m      8\u001B[0m image \u001B[38;5;241m=\u001B[39m image \u001B[38;5;241m/\u001B[39m \u001B[38;5;241m255.\u001B[39m\n",
      "\u001B[1;31mNameError\u001B[0m: name 'np' is not defined"
     ]
    }
   ],
   "source": [
    "my_image = \"my_image.jpg\" # change this to the name of your image file\n",
    "my_label_y = [1] # the true class of your image (1 -> cat, 0 -> non-cat)\n",
    "num_px = 64\n",
    "\n",
    "fname = \"../data/\" + my_image\n",
    "image = np.array(Image.open(fname).resize((num_px, num_px)))\n",
    "plt.imshow(image)\n",
    "image = image / 255.\n",
    "image = image.reshape((1, num_px * num_px * 3)).T\n",
    "\n",
    "my_predicted_image = model.predict(image, my_label_y)\n",
    "\n",
    "print (\"y = \" + str(np.squeeze(my_predicted_image)) + \", your L-layer model predicts a \\\"\" + classes[int(np.squeeze(my_predicted_image)),].decode(\"utf-8\") +  \"\\\" picture.\")"
   ],
   "metadata": {
    "collapsed": false,
    "ExecuteTime": {
     "end_time": "2024-03-01T09:17:36.852492600Z",
     "start_time": "2024-03-01T09:17:36.805338400Z"
    }
   }
  }
 ],
 "metadata": {
  "kernelspec": {
   "display_name": "Python 3",
   "language": "python",
   "name": "python3"
  },
  "language_info": {
   "codemirror_mode": {
    "name": "ipython",
    "version": 2
   },
   "file_extension": ".py",
   "mimetype": "text/x-python",
   "name": "python",
   "nbconvert_exporter": "python",
   "pygments_lexer": "ipython2",
   "version": "2.7.6"
  }
 },
 "nbformat": 4,
 "nbformat_minor": 5
}
