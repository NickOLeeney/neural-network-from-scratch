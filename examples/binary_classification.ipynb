{
 "cells": [
  {
   "cell_type": "code",
   "execution_count": 3,
   "id": "initial_id",
   "metadata": {
    "collapsed": true,
    "ExecuteTime": {
     "end_time": "2024-03-13T09:42:05.042729800Z",
     "start_time": "2024-03-13T09:42:02.433744800Z"
    }
   },
   "outputs": [],
   "source": [
    "import pandas as pd\n",
    "from neuralNetworkFromScratch import NeuralNetworkFromScratch\n",
    "import h5py\n",
    "from PIL import Image\n",
    "import numpy as np\n",
    "from sklearn.datasets import load_wine\n",
    "from sklearn.model_selection import train_test_split\n",
    "\n",
    "import matplotlib.pyplot as plt"
   ]
  },
  {
   "cell_type": "code",
   "execution_count": 4,
   "outputs": [],
   "source": [
    "def min_max_scaler(series):\n",
    "    normalized = (series - min(series)) / (max(series)-min(series))\n",
    "    return normalized"
   ],
   "metadata": {
    "collapsed": false,
    "ExecuteTime": {
     "end_time": "2024-03-13T09:42:05.049723200Z",
     "start_time": "2024-03-13T09:42:05.046465Z"
    }
   }
  },
  {
   "cell_type": "markdown",
   "source": [
    "# Example 1: Simple binary classification"
   ],
   "metadata": {
    "collapsed": false
   }
  },
  {
   "cell_type": "code",
   "execution_count": 4,
   "outputs": [],
   "source": [
    "data = load_wine()\n",
    "features = pd.DataFrame(data=data.data, columns=data.feature_names)\n",
    "target = pd.DataFrame(data=data.target, columns=['class'])\n",
    "df = pd.concat([features, target], axis=1)\n",
    "\n",
    "# Dropping one class for binary classification\n",
    "df = df[df['class'] != 2]\n",
    "features = df.drop('class', axis=1)\n",
    "target = df[['class']]"
   ],
   "metadata": {
    "collapsed": false,
    "ExecuteTime": {
     "end_time": "2024-03-13T09:15:13.478860700Z",
     "start_time": "2024-03-13T09:15:13.432457500Z"
    }
   }
  },
  {
   "cell_type": "code",
   "execution_count": 5,
   "outputs": [],
   "source": [
    "for col in features.columns:\n",
    "    features[col] = min_max_scaler(features[col])"
   ],
   "metadata": {
    "collapsed": false,
    "ExecuteTime": {
     "end_time": "2024-03-13T09:15:13.685247Z",
     "start_time": "2024-03-13T09:15:13.673840100Z"
    }
   }
  },
  {
   "cell_type": "code",
   "execution_count": 6,
   "outputs": [],
   "source": [
    "# Train - Test Split\n",
    "train_x, test_x, train_y, test_y = train_test_split(features, target, test_size=0.33, random_state=42)"
   ],
   "metadata": {
    "collapsed": false,
    "ExecuteTime": {
     "end_time": "2024-03-13T09:15:13.915005600Z",
     "start_time": "2024-03-13T09:15:13.908166100Z"
    }
   }
  },
  {
   "cell_type": "markdown",
   "source": [
    "## 3. Prediction"
   ],
   "metadata": {
    "collapsed": false
   }
  },
  {
   "cell_type": "code",
   "execution_count": 7,
   "outputs": [],
   "source": [
    "model = NeuralNetworkFromScratch(layers_dims=[train_x.shape[1], 4, 2, 1], task='binary_classification', learning_rate=1e-1, n_epochs=10000, print_cost=True, lambd=0.7, initialization='He')"
   ],
   "metadata": {
    "collapsed": false,
    "ExecuteTime": {
     "end_time": "2024-03-13T09:15:15.187867100Z",
     "start_time": "2024-03-13T09:15:15.107775700Z"
    }
   }
  },
  {
   "cell_type": "code",
   "execution_count": 8,
   "outputs": [
    {
     "ename": "TypeError",
     "evalue": "return arrays must be of ArrayType",
     "output_type": "error",
     "traceback": [
      "\u001B[1;31m---------------------------------------------------------------------------\u001B[0m",
      "\u001B[1;31mTypeError\u001B[0m                                 Traceback (most recent call last)",
      "Cell \u001B[1;32mIn[8], line 1\u001B[0m\n\u001B[1;32m----> 1\u001B[0m parameters, costs \u001B[38;5;241m=\u001B[39m \u001B[43mmodel\u001B[49m\u001B[38;5;241;43m.\u001B[39;49m\u001B[43mfit\u001B[49m\u001B[43m(\u001B[49m\u001B[43mtrain_x\u001B[49m\u001B[43m,\u001B[49m\u001B[43m \u001B[49m\u001B[43mtrain_y\u001B[49m\u001B[43m,\u001B[49m\u001B[43m \u001B[49m\u001B[43mprint_every\u001B[49m\u001B[38;5;241;43m=\u001B[39;49m\u001B[38;5;241;43m1000\u001B[39;49m\u001B[43m,\u001B[49m\u001B[43m \u001B[49m\u001B[43mplot_cost_function\u001B[49m\u001B[38;5;241;43m=\u001B[39;49m\u001B[38;5;28;43;01mTrue\u001B[39;49;00m\u001B[43m)\u001B[49m\n",
      "File \u001B[1;32m~\\Documents\\Code\\learning\\neural-network-from-scratch\\neuralNetworkFromScratch.py:97\u001B[0m, in \u001B[0;36mNeuralNetworkFromScratch.fit\u001B[1;34m(self, X, Y, plot_cost_function, print_every)\u001B[0m\n\u001B[0;32m     95\u001B[0m \u001B[38;5;66;03m# Compute cost.\u001B[39;00m\n\u001B[0;32m     96\u001B[0m \u001B[38;5;28;01mif\u001B[39;00m \u001B[38;5;28mself\u001B[39m\u001B[38;5;241m.\u001B[39m_task \u001B[38;5;241m==\u001B[39m \u001B[38;5;124m'\u001B[39m\u001B[38;5;124mbinary_classification\u001B[39m\u001B[38;5;124m'\u001B[39m:\n\u001B[1;32m---> 97\u001B[0m     cost \u001B[38;5;241m=\u001B[39m \u001B[43mcross_entropy_cost\u001B[49m\u001B[43m(\u001B[49m\u001B[43mAL\u001B[49m\u001B[43m,\u001B[49m\u001B[43m \u001B[49m\u001B[43mY\u001B[49m\u001B[43m)\u001B[49m\n\u001B[0;32m     98\u001B[0m \u001B[38;5;28;01melif\u001B[39;00m \u001B[38;5;28mself\u001B[39m\u001B[38;5;241m.\u001B[39m_task \u001B[38;5;241m==\u001B[39m \u001B[38;5;124m'\u001B[39m\u001B[38;5;124mregression\u001B[39m\u001B[38;5;124m'\u001B[39m:\n\u001B[0;32m     99\u001B[0m     cost \u001B[38;5;241m=\u001B[39m rmse_cost(AL, Y)\n",
      "File \u001B[1;32m~\\Documents\\Code\\learning\\neural-network-from-scratch\\utils\\costFunctions.py:21\u001B[0m, in \u001B[0;36mcross_entropy_cost\u001B[1;34m(AL, Y)\u001B[0m\n\u001B[0;32m     17\u001B[0m m \u001B[38;5;241m=\u001B[39m Y\u001B[38;5;241m.\u001B[39mshape[\u001B[38;5;241m1\u001B[39m]\n\u001B[0;32m     19\u001B[0m \u001B[38;5;66;03m# Compute loss from aL and y.\u001B[39;00m\n\u001B[1;32m---> 21\u001B[0m cost \u001B[38;5;241m=\u001B[39m (\u001B[38;5;241m1.\u001B[39m \u001B[38;5;241m/\u001B[39m m) \u001B[38;5;241m*\u001B[39m (\u001B[38;5;241m-\u001B[39mnp\u001B[38;5;241m.\u001B[39mdot(Y, \u001B[43mnp\u001B[49m\u001B[38;5;241;43m.\u001B[39;49m\u001B[43mlog\u001B[49m\u001B[43m(\u001B[49m\u001B[43mAL\u001B[49m\u001B[43m,\u001B[49m\u001B[43m \u001B[49m\u001B[43mwhere\u001B[49m\u001B[38;5;241;43m=\u001B[39;49m\u001B[38;5;241;43m0\u001B[39;49m\u001B[38;5;241;43m<\u001B[39;49m\u001B[43mAL\u001B[49m\u001B[43m,\u001B[49m\u001B[43m \u001B[49m\u001B[43mout\u001B[49m\u001B[38;5;241;43m=\u001B[39;49m\u001B[43mnp\u001B[49m\u001B[38;5;241;43m.\u001B[39;49m\u001B[43mnan\u001B[49m\u001B[43m)\u001B[49m\u001B[38;5;241m.\u001B[39mT) \u001B[38;5;241m-\u001B[39m np\u001B[38;5;241m.\u001B[39mdot(\u001B[38;5;241m1\u001B[39m \u001B[38;5;241m-\u001B[39m Y, np\u001B[38;5;241m.\u001B[39mlog(\u001B[38;5;241m1\u001B[39m \u001B[38;5;241m-\u001B[39m AL, where\u001B[38;5;241m=\u001B[39m\u001B[38;5;241m0\u001B[39m\u001B[38;5;241m<\u001B[39m\u001B[38;5;241m1\u001B[39m \u001B[38;5;241m-\u001B[39m AL, out\u001B[38;5;241m=\u001B[39mnp\u001B[38;5;241m.\u001B[39mnan)\u001B[38;5;241m.\u001B[39mT))\n\u001B[0;32m     22\u001B[0m \u001B[38;5;28;01mif\u001B[39;00m cost \u001B[38;5;241m==\u001B[39m np\u001B[38;5;241m.\u001B[39mnan:\n\u001B[0;32m     23\u001B[0m     \u001B[38;5;28mprint\u001B[39m(\u001B[38;5;124m'\u001B[39m\u001B[38;5;124mstop\u001B[39m\u001B[38;5;124m'\u001B[39m)\n",
      "\u001B[1;31mTypeError\u001B[0m: return arrays must be of ArrayType"
     ]
    }
   ],
   "source": [
    "parameters, costs = model.fit(train_x, train_y, print_every=1000, plot_cost_function=True)"
   ],
   "metadata": {
    "collapsed": false
   }
  },
  {
   "cell_type": "code",
   "execution_count": 8,
   "outputs": [
    {
     "name": "stdout",
     "output_type": "stream",
     "text": [
      "Accuracy: 0.9999999999999999\n"
     ]
    }
   ],
   "source": [
    "pred_train = model.predict(train_x, train_y)"
   ],
   "metadata": {
    "collapsed": false,
    "ExecuteTime": {
     "end_time": "2024-03-13T07:59:08.568262400Z",
     "start_time": "2024-03-13T07:59:08.534351600Z"
    }
   }
  },
  {
   "cell_type": "code",
   "execution_count": 9,
   "outputs": [
    {
     "name": "stdout",
     "output_type": "stream",
     "text": [
      "Accuracy: 0.9767441860465118\n"
     ]
    }
   ],
   "source": [
    "pred = model.predict(test_x, test_y)"
   ],
   "metadata": {
    "collapsed": false,
    "ExecuteTime": {
     "end_time": "2024-03-13T07:59:08.569628Z",
     "start_time": "2024-03-13T07:59:08.541301800Z"
    }
   }
  },
  {
   "cell_type": "markdown",
   "source": [
    "# Example 2: Image recognition"
   ],
   "metadata": {
    "collapsed": false
   }
  },
  {
   "cell_type": "markdown",
   "source": [
    "## 1. Imports"
   ],
   "metadata": {
    "collapsed": false
   }
  },
  {
   "cell_type": "code",
   "execution_count": 5,
   "outputs": [],
   "source": [
    "def load_data():\n",
    "    train_dataset = h5py.File('../data/train_catvnoncat.h5', \"r\")\n",
    "    train_set_x_orig = np.array(train_dataset[\"train_set_x\"][:]) # your train set features\n",
    "    train_set_y_orig = np.array(train_dataset[\"train_set_y\"][:]) # your train set labels\n",
    "\n",
    "    test_dataset = h5py.File('../data/test_catvnoncat.h5', \"r\")\n",
    "    test_set_x_orig = np.array(test_dataset[\"test_set_x\"][:]) # your test set features\n",
    "    test_set_y_orig = np.array(test_dataset[\"test_set_y\"][:]) # your test set labels\n",
    "\n",
    "    classes = np.array(test_dataset[\"list_classes\"][:]) # the list of classes\n",
    "\n",
    "    train_set_y_orig = train_set_y_orig.reshape((1, train_set_y_orig.shape[0]))\n",
    "    test_set_y_orig = test_set_y_orig.reshape((1, test_set_y_orig.shape[0]))\n",
    "\n",
    "    return train_set_x_orig, train_set_y_orig, test_set_x_orig, test_set_y_orig, classes"
   ],
   "metadata": {
    "collapsed": false,
    "ExecuteTime": {
     "end_time": "2024-03-13T09:42:10.998091600Z",
     "start_time": "2024-03-13T09:42:10.993926200Z"
    }
   },
   "id": "54f771ead2ec428a"
  },
  {
   "cell_type": "code",
   "execution_count": 6,
   "outputs": [],
   "source": [
    "train_x_orig, train_y, test_x_orig, test_y, classes = load_data()"
   ],
   "metadata": {
    "collapsed": false,
    "ExecuteTime": {
     "end_time": "2024-03-13T09:42:11.368680200Z",
     "start_time": "2024-03-13T09:42:11.350452400Z"
    }
   },
   "id": "9d55fe52e0b07258"
  },
  {
   "cell_type": "code",
   "execution_count": 7,
   "outputs": [
    {
     "name": "stdout",
     "output_type": "stream",
     "text": [
      "y = 0. It's a non-cat picture.\n"
     ]
    },
    {
     "data": {
      "text/plain": "<Figure size 640x480 with 1 Axes>",
      "image/png": "[encoded data removed]"
     },
     "metadata": {},
     "output_type": "display_data"
    }
   ],
   "source": [
    "# Example of a picture\n",
    "index = 10\n",
    "plt.imshow(train_x_orig[index])\n",
    "print (\"y = \" + str(train_y[0,index]) + \". It's a \" + classes[train_y[0,index]].decode(\"utf-8\") +  \" picture.\")"
   ],
   "metadata": {
    "collapsed": false,
    "ExecuteTime": {
     "end_time": "2024-03-13T09:42:11.943654700Z",
     "start_time": "2024-03-13T09:42:11.765075600Z"
    }
   },
   "id": "eea1173c2ccbc8ad"
  },
  {
   "cell_type": "markdown",
   "source": [
    "## 2. Preprocessing"
   ],
   "metadata": {
    "collapsed": false
   },
   "id": "91b4343e2b500e60"
  },
  {
   "cell_type": "code",
   "execution_count": 8,
   "outputs": [
    {
     "name": "stdout",
     "output_type": "stream",
     "text": [
      "train_x's shape: (12288, 209)\n",
      "test_x's shape: (12288, 50)\n"
     ]
    }
   ],
   "source": [
    "# Reshape the training and test examples \n",
    "train_x_flatten = train_x_orig.reshape(train_x_orig.shape[0], -1).T   # The \"-1\" makes reshape flatten the remaining dimensions\n",
    "test_x_flatten = test_x_orig.reshape(test_x_orig.shape[0], -1).T\n",
    "\n",
    "# Standardize data to have feature values between 0 and 1.\n",
    "train_x = train_x_flatten/255.\n",
    "test_x = test_x_flatten/255.\n",
    "\n",
    "print (\"train_x's shape: \" + str(train_x.shape))\n",
    "print (\"test_x's shape: \" + str(test_x.shape))"
   ],
   "metadata": {
    "collapsed": false,
    "ExecuteTime": {
     "end_time": "2024-03-13T09:42:12.789938100Z",
     "start_time": "2024-03-13T09:42:12.761541Z"
    }
   },
   "id": "45a85bfb2e31ab1a"
  },
  {
   "cell_type": "markdown",
   "source": [
    "## 3. Training"
   ],
   "metadata": {
    "collapsed": false
   },
   "id": "1f0db98b765313ce"
  },
  {
   "cell_type": "code",
   "execution_count": 9,
   "outputs": [],
   "source": [
    "model = NeuralNetworkFromScratch(layers_dims=[12288, 20, 7, 5, 1], task='binary_classification', learning_rate=0.0075, n_epochs=3000, print_cost=True, initialization='Xavier', lambd=None, keep_prob=0.8)"
   ],
   "metadata": {
    "collapsed": false,
    "ExecuteTime": {
     "end_time": "2024-03-13T09:42:13.859752Z",
     "start_time": "2024-03-13T09:42:13.850796300Z"
    }
   },
   "id": "1e9fddefb7a816dc"
  },
  {
   "cell_type": "code",
   "execution_count": 10,
   "outputs": [
    {
     "name": "stdout",
     "output_type": "stream",
     "text": [
      "Cost after iteration 0: 0.7758239515640514\n",
      "Cost after iteration 100: 0.675869335003122\n",
      "Cost after iteration 200: 0.6596762951577705\n",
      "Cost after iteration 300: 0.6360260947815056\n",
      "Cost after iteration 400: 0.5796247217405177\n",
      "Cost after iteration 500: 0.5482346915078045\n",
      "Cost after iteration 600: 0.5454487191284558\n",
      "Cost after iteration 700: 0.4932034656120111\n",
      "Cost after iteration 800: 0.47873463763061036\n",
      "Cost after iteration 900: 0.4035275727045794\n",
      "Cost after iteration 1000: 0.3777754856529844\n",
      "Cost after iteration 1100: 0.3743303452815635\n",
      "Cost after iteration 1200: 0.33381597301353677\n",
      "Cost after iteration 1300: 0.32104359673454047\n",
      "Cost after iteration 1400: 0.3126504398980998\n",
      "Cost after iteration 1500: 0.26978002930600303\n",
      "Cost after iteration 1600: 0.2523848496981053\n",
      "Cost after iteration 1700: 0.21188042640314955\n",
      "Cost after iteration 1800: 0.22921818631973806\n",
      "Cost after iteration 1900: 0.2147745826245115\n",
      "Cost after iteration 2000: 0.22399418239237706\n",
      "Cost after iteration 2100: 0.16760393028213014\n"
     ]
    },
    {
     "name": "stderr",
     "output_type": "stream",
     "text": [
      "C:\\Users\\maicol.nicolini\\Documents\\Code\\learning\\neural-network-from-scratch\\utils\\costFunctions.py:21: RuntimeWarning: divide by zero encountered in log\n",
      "  cost = (1. / m) * (-np.dot(Y, np.log(AL).T) - np.dot(1 - Y, np.log(1 - AL).T))\n"
     ]
    },
    {
     "data": {
      "text/plain": "<Figure size 640x480 with 1 Axes>",
      "image/png": "[encoded data removed]"
     },
     "metadata": {},
     "output_type": "display_data"
    }
   ],
   "source": [
    "parameters, costs = model.fit(train_x, train_y, plot_cost_function=True)"
   ],
   "metadata": {
    "collapsed": false,
    "ExecuteTime": {
     "end_time": "2024-03-13T09:43:03.653948200Z",
     "start_time": "2024-03-13T09:42:14.719708100Z"
    }
   },
   "id": "c12e4be7b4bb2b36"
  },
  {
   "cell_type": "code",
   "execution_count": 11,
   "outputs": [
    {
     "name": "stdout",
     "output_type": "stream",
     "text": [
      "Accuracy: 0.9904306220095691\n"
     ]
    }
   ],
   "source": [
    "pred_train = model.predict(train_x, train_y)"
   ],
   "metadata": {
    "collapsed": false,
    "ExecuteTime": {
     "end_time": "2024-03-13T09:43:07.683209300Z",
     "start_time": "2024-03-13T09:43:07.659299900Z"
    }
   },
   "id": "bb2f6ca55bc03f6b"
  },
  {
   "cell_type": "markdown",
   "source": [
    "## 4. Inference"
   ],
   "metadata": {
    "collapsed": false
   }
  },
  {
   "cell_type": "code",
   "execution_count": 12,
   "outputs": [
    {
     "name": "stdout",
     "output_type": "stream",
     "text": [
      "Accuracy: 0.76\n"
     ]
    }
   ],
   "source": [
    "pred_test = model.predict(test_x, test_y)"
   ],
   "metadata": {
    "collapsed": false,
    "ExecuteTime": {
     "end_time": "2024-03-13T09:43:13.279456700Z",
     "start_time": "2024-03-13T09:43:13.263148400Z"
    }
   }
  },
  {
   "cell_type": "code",
   "execution_count": 13,
   "outputs": [
    {
     "ename": "NameError",
     "evalue": "name 'np' is not defined",
     "output_type": "error",
     "traceback": [
      "\u001B[1;31m---------------------------------------------------------------------------\u001B[0m",
      "\u001B[1;31mNameError\u001B[0m                                 Traceback (most recent call last)",
      "Cell \u001B[1;32mIn[13], line 6\u001B[0m\n\u001B[0;32m      3\u001B[0m num_px \u001B[38;5;241m=\u001B[39m \u001B[38;5;241m64\u001B[39m\n\u001B[0;32m      5\u001B[0m fname \u001B[38;5;241m=\u001B[39m \u001B[38;5;124m\"\u001B[39m\u001B[38;5;124m../data/\u001B[39m\u001B[38;5;124m\"\u001B[39m \u001B[38;5;241m+\u001B[39m my_image\n\u001B[1;32m----> 6\u001B[0m image \u001B[38;5;241m=\u001B[39m \u001B[43mnp\u001B[49m\u001B[38;5;241m.\u001B[39marray(Image\u001B[38;5;241m.\u001B[39mopen(fname)\u001B[38;5;241m.\u001B[39mresize((num_px, num_px)))\n\u001B[0;32m      7\u001B[0m plt\u001B[38;5;241m.\u001B[39mimshow(image)\n\u001B[0;32m      8\u001B[0m image \u001B[38;5;241m=\u001B[39m image \u001B[38;5;241m/\u001B[39m \u001B[38;5;241m255.\u001B[39m\n",
      "\u001B[1;31mNameError\u001B[0m: name 'np' is not defined"
     ]
    }
   ],
   "source": [
    "my_image = \"my_image.jpg\" # change this to the name of your image file\n",
    "my_label_y = [1] # the true class of your image (1 -> cat, 0 -> non-cat)\n",
    "num_px = 64\n",
    "\n",
    "fname = \"../data/\" + my_image\n",
    "image = np.array(Image.open(fname).resize((num_px, num_px)))\n",
    "plt.imshow(image)\n",
    "image = image / 255.\n",
    "image = image.reshape((1, num_px * num_px * 3)).T\n",
    "\n",
    "my_predicted_image = model.predict(image, my_label_y)\n",
    "\n",
    "print (\"y = \" + str(np.squeeze(my_predicted_image)) + \", your L-layer model predicts a \\\"\" + classes[int(np.squeeze(my_predicted_image)),].decode(\"utf-8\") +  \"\\\" picture.\")"
   ],
   "metadata": {
    "collapsed": false,
    "ExecuteTime": {
     "end_time": "2024-03-01T09:17:36.852492600Z",
     "start_time": "2024-03-01T09:17:36.805338400Z"
    }
   }
  }
 ],
 "metadata": {
  "kernelspec": {
   "display_name": "Python 3",
   "language": "python",
   "name": "python3"
  },
  "language_info": {
   "codemirror_mode": {
    "name": "ipython",
    "version": 2
   },
   "file_extension": ".py",
   "mimetype": "text/x-python",
   "name": "python",
   "nbconvert_exporter": "python",
   "pygments_lexer": "ipython2",
   "version": "2.7.6"
  }
 },
 "nbformat": 4,
 "nbformat_minor": 5
}
