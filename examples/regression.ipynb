{
 "cells": [
  {
   "cell_type": "code",
   "execution_count": 1,
   "metadata": {
    "collapsed": true,
    "ExecuteTime": {
     "end_time": "2024-01-24T09:48:52.408131Z",
     "start_time": "2024-01-24T09:48:49.337886100Z"
    }
   },
   "outputs": [],
   "source": [
    "import pandas as pd\n",
    "from sklearn.datasets import fetch_california_housing\n",
    "from sklearn.model_selection import train_test_split\n",
    "from neuralNetworkFromScratch import NeuralNetworkFromScratch"
   ]
  },
  {
   "cell_type": "markdown",
   "source": [
    "# 1. Import Data"
   ],
   "metadata": {
    "collapsed": false
   }
  },
  {
   "cell_type": "code",
   "execution_count": 2,
   "outputs": [],
   "source": [
    "data = fetch_california_housing()\n",
    "features = pd.DataFrame(data=data.data, columns=data.feature_names)\n",
    "target = pd.DataFrame(data=data.target, columns=data.target_names)"
   ],
   "metadata": {
    "collapsed": false,
    "ExecuteTime": {
     "end_time": "2024-01-24T09:48:52.464051300Z",
     "start_time": "2024-01-24T09:48:52.401901100Z"
    }
   }
  },
  {
   "cell_type": "markdown",
   "source": [
    "# 2. Preprocessing"
   ],
   "metadata": {
    "collapsed": false
   }
  },
  {
   "cell_type": "code",
   "execution_count": 3,
   "outputs": [],
   "source": [
    "def min_max_scaler(series):\n",
    "    normalized = (series - min(series)) / (max(series)-min(series))\n",
    "    return normalized"
   ],
   "metadata": {
    "collapsed": false,
    "ExecuteTime": {
     "end_time": "2024-01-24T09:48:52.466022700Z",
     "start_time": "2024-01-24T09:48:52.458150800Z"
    }
   }
  },
  {
   "cell_type": "code",
   "execution_count": 4,
   "outputs": [],
   "source": [
    "for col in features.columns:\n",
    "    features[col] = min_max_scaler(features[col])"
   ],
   "metadata": {
    "collapsed": false,
    "ExecuteTime": {
     "end_time": "2024-01-24T09:48:52.555587500Z",
     "start_time": "2024-01-24T09:48:52.472001300Z"
    }
   }
  },
  {
   "cell_type": "code",
   "execution_count": 10,
   "outputs": [],
   "source": [
    "train_x, test_x, train_y, test_y = train_test_split(features, target, test_size=0.33, random_state=42)\n",
    "\n",
    "train_x = train_x.to_numpy().T\n",
    "test_x = test_x.to_numpy().T\n",
    "train_y = train_y.to_numpy().T\n",
    "test_y = test_y.to_numpy().T"
   ],
   "metadata": {
    "collapsed": false,
    "ExecuteTime": {
     "end_time": "2024-01-24T09:49:32.409335700Z",
     "start_time": "2024-01-24T09:49:32.395289Z"
    }
   }
  },
  {
   "cell_type": "code",
   "execution_count": 6,
   "outputs": [],
   "source": [
    "model = NeuralNetworkFromScratch(layers_dims=[train_x.shape[0], 5, 3, 1], cost_function='RMSE', learning_rate=0.0075, num_iterations=3000, print_cost=True)"
   ],
   "metadata": {
    "collapsed": false,
    "ExecuteTime": {
     "end_time": "2024-01-24T09:48:52.569209400Z",
     "start_time": "2024-01-24T09:48:52.560008200Z"
    }
   }
  },
  {
   "cell_type": "code",
   "execution_count": 7,
   "outputs": [
    {
     "name": "stdout",
     "output_type": "stream",
     "text": [
      "Cost after iteration 0: 1.8878111725671096\n",
      "Cost after iteration 100: 1.3452064071167062\n",
      "Cost after iteration 200: 1.2343694130049534\n"
     ]
    },
    {
     "name": "stderr",
     "output_type": "stream",
     "text": [
      "C:\\Users\\maicol.nicolini\\AppData\\Local\\Programs\\Python\\Python311\\Lib\\site-packages\\numpy\\core\\fromnumeric.py:86: RuntimeWarning: invalid value encountered in reduce\n",
      "  return ufunc.reduce(obj, axis, dtype, out, **passkwargs)\n"
     ]
    },
    {
     "name": "stdout",
     "output_type": "stream",
     "text": [
      "Cost after iteration 300: nan\n",
      "Cost after iteration 400: nan\n",
      "Cost after iteration 500: nan\n",
      "Cost after iteration 600: nan\n",
      "Cost after iteration 700: nan\n",
      "Cost after iteration 800: nan\n",
      "Cost after iteration 900: nan\n",
      "Cost after iteration 1000: nan\n",
      "Cost after iteration 1100: nan\n",
      "Cost after iteration 1200: nan\n",
      "Cost after iteration 1300: nan\n",
      "Cost after iteration 1400: nan\n",
      "Cost after iteration 1500: nan\n",
      "Cost after iteration 1600: nan\n",
      "Cost after iteration 1700: nan\n",
      "Cost after iteration 1800: nan\n",
      "Cost after iteration 1900: nan\n",
      "Cost after iteration 2000: nan\n",
      "Cost after iteration 2100: nan\n",
      "Cost after iteration 2200: nan\n",
      "Cost after iteration 2300: nan\n",
      "Cost after iteration 2400: nan\n",
      "Cost after iteration 2500: nan\n",
      "Cost after iteration 2600: nan\n",
      "Cost after iteration 2700: nan\n",
      "Cost after iteration 2800: nan\n",
      "Cost after iteration 2900: nan\n",
      "Cost after iteration 2999: nan\n"
     ]
    }
   ],
   "source": [
    "parameters, costs = model.fit(train_x, train_y)"
   ],
   "metadata": {
    "collapsed": false,
    "ExecuteTime": {
     "end_time": "2024-01-24T09:48:56.678208Z",
     "start_time": "2024-01-24T09:48:52.571223100Z"
    }
   }
  },
  {
   "cell_type": "code",
   "execution_count": 8,
   "outputs": [
    {
     "name": "stdout",
     "output_type": "stream",
     "text": [
      "RMSE: 0.0\n"
     ]
    }
   ],
   "source": [
    "pred_train = model.predict(train_x, train_y)"
   ],
   "metadata": {
    "collapsed": false,
    "ExecuteTime": {
     "end_time": "2024-01-24T09:48:56.687293200Z",
     "start_time": "2024-01-24T09:48:56.678208Z"
    }
   }
  },
  {
   "cell_type": "code",
   "execution_count": 11,
   "outputs": [
    {
     "name": "stdout",
     "output_type": "stream",
     "text": [
      "RMSE: 0.0\n"
     ]
    }
   ],
   "source": [
    "pred_test = model.predict(test_x, test_y)"
   ],
   "metadata": {
    "collapsed": false,
    "ExecuteTime": {
     "end_time": "2024-01-24T09:49:34.925811600Z",
     "start_time": "2024-01-24T09:49:34.919895200Z"
    }
   }
  }
 ],
 "metadata": {
  "kernelspec": {
   "display_name": "Python 3",
   "language": "python",
   "name": "python3"
  },
  "language_info": {
   "codemirror_mode": {
    "name": "ipython",
    "version": 2
   },
   "file_extension": ".py",
   "mimetype": "text/x-python",
   "name": "python",
   "nbconvert_exporter": "python",
   "pygments_lexer": "ipython2",
   "version": "2.7.6"
  }
 },
 "nbformat": 4,
 "nbformat_minor": 0
}
