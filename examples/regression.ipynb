{
 "cells": [
  {
   "cell_type": "code",
   "execution_count": 1,
   "metadata": {
    "collapsed": true,
    "ExecuteTime": {
     "end_time": "2024-01-25T09:33:52.114543400Z",
     "start_time": "2024-01-25T09:33:50.459198300Z"
    }
   },
   "outputs": [],
   "source": [
    "import matplotlib.pyplot as plt\n",
    "import pandas as pd\n",
    "from sklearn.datasets import fetch_california_housing\n",
    "from sklearn.model_selection import train_test_split\n",
    "from neuralNetworkFromScratch import NeuralNetworkFromScratch"
   ]
  },
  {
   "cell_type": "markdown",
   "source": [
    "# 1. Import Data"
   ],
   "metadata": {
    "collapsed": false
   }
  },
  {
   "cell_type": "code",
   "execution_count": 2,
   "outputs": [],
   "source": [
    "data = fetch_california_housing()\n",
    "features = pd.DataFrame(data=data.data, columns=data.feature_names)\n",
    "target = pd.DataFrame(data=data.target, columns=data.target_names)"
   ],
   "metadata": {
    "collapsed": false,
    "ExecuteTime": {
     "end_time": "2024-01-25T09:33:52.133712200Z",
     "start_time": "2024-01-25T09:33:52.120268Z"
    }
   }
  },
  {
   "cell_type": "markdown",
   "source": [
    "# 2. Preprocessing"
   ],
   "metadata": {
    "collapsed": false
   }
  },
  {
   "cell_type": "code",
   "execution_count": 3,
   "outputs": [],
   "source": [
    "def min_max_scaler(series):\n",
    "    normalized = (series - min(series)) / (max(series)-min(series))\n",
    "    return normalized"
   ],
   "metadata": {
    "collapsed": false,
    "ExecuteTime": {
     "end_time": "2024-01-25T09:33:52.138236600Z",
     "start_time": "2024-01-25T09:33:52.133712200Z"
    }
   }
  },
  {
   "cell_type": "code",
   "execution_count": 4,
   "outputs": [],
   "source": [
    "for col in features.columns:\n",
    "    features[col] = min_max_scaler(features[col])"
   ],
   "metadata": {
    "collapsed": false,
    "ExecuteTime": {
     "end_time": "2024-01-25T09:33:52.173921900Z",
     "start_time": "2024-01-25T09:33:52.138236600Z"
    }
   }
  },
  {
   "cell_type": "code",
   "execution_count": 5,
   "outputs": [],
   "source": [
    "train_x, test_x, train_y, test_y = train_test_split(features, target, test_size=0.33, random_state=42)\n",
    "\n",
    "train_x = train_x.to_numpy().T\n",
    "test_x = test_x.to_numpy().T\n",
    "train_y = train_y.to_numpy().T\n",
    "test_y = test_y.to_numpy().T"
   ],
   "metadata": {
    "collapsed": false,
    "ExecuteTime": {
     "end_time": "2024-01-25T09:33:52.183714800Z",
     "start_time": "2024-01-25T09:33:52.173921900Z"
    }
   }
  },
  {
   "cell_type": "code",
   "execution_count": 6,
   "outputs": [],
   "source": [
    "model = NeuralNetworkFromScratch(layers_dims=[train_x.shape[0], 8, 4, 3, 2, 1], cost_function='RMSE', learning_rate=0.005, num_iterations=5000, print_cost=True)"
   ],
   "metadata": {
    "collapsed": false,
    "ExecuteTime": {
     "end_time": "2024-01-25T09:33:52.190120200Z",
     "start_time": "2024-01-25T09:33:52.183714800Z"
    }
   }
  },
  {
   "cell_type": "code",
   "execution_count": null,
   "outputs": [
    {
     "name": "stdout",
     "output_type": "stream",
     "text": [
      "Cost after iteration 0: 2.8973440388904033\n",
      "Cost after iteration 100: 1.3922777992502007\n",
      "Cost after iteration 200: 0.8814104869924614\n",
      "Cost after iteration 300: 0.718468241627548\n",
      "Cost after iteration 400: 0.676400882124562\n",
      "Cost after iteration 500: 0.6673062570685586\n",
      "Cost after iteration 600: 0.6655076707149504\n",
      "Cost after iteration 700: 0.6651272913519177\n",
      "Cost after iteration 800: 0.6650152442602039\n",
      "Cost after iteration 900: 0.6649751858975457\n",
      "Cost after iteration 1000: 0.664946334496242\n",
      "Cost after iteration 1100: 0.6649196893726891\n",
      "Cost after iteration 1200: 0.6648928509018671\n",
      "Cost after iteration 1300: 0.6648656901349116\n",
      "Cost after iteration 1400: 0.6648381329083586\n",
      "Cost after iteration 1500: 0.6648098370499568\n",
      "Cost after iteration 1600: 0.664780950664969\n",
      "Cost after iteration 1700: 0.6647511048823337\n",
      "Cost after iteration 1800: 0.6647204273369745\n",
      "Cost after iteration 1900: 0.6646888329697459\n",
      "Cost after iteration 2000: 0.6646561988314001\n",
      "Cost after iteration 2100: 0.6646223929132877\n",
      "Cost after iteration 2200: 0.6645874048510639\n",
      "Cost after iteration 2300: 0.6645509887899752\n",
      "Cost after iteration 2400: 0.6645130386016451\n",
      "Cost after iteration 2500: 0.6644732795528251\n",
      "Cost after iteration 2600: 0.6644315673755384\n",
      "Cost after iteration 2700: 0.6643879105312522\n",
      "Cost after iteration 2800: 0.664341329697843\n",
      "Cost after iteration 2900: 0.6642745592516821\n",
      "Cost after iteration 3000: 0.6641017157327913\n",
      "Cost after iteration 3100: 0.6639056591403509\n",
      "Cost after iteration 3200: 0.6636706060379572\n",
      "Cost after iteration 3300: 0.6633638440928862\n",
      "Cost after iteration 3400: 0.6630260673932935\n",
      "Cost after iteration 3500: 0.6626984055413195\n",
      "Cost after iteration 3600: 0.6623835555976841\n",
      "Cost after iteration 3700: 0.6620777152131658\n",
      "Cost after iteration 3800: 0.6617521287047288\n",
      "Cost after iteration 3900: 0.6613940638910969\n"
     ]
    }
   ],
   "source": [
    "parameters, costs = model.fit(train_x, train_y)"
   ],
   "metadata": {
    "collapsed": false,
    "is_executing": true,
    "ExecuteTime": {
     "start_time": "2024-01-25T09:33:52.190120200Z"
    }
   }
  },
  {
   "cell_type": "code",
   "execution_count": 84,
   "outputs": [
    {
     "name": "stdout",
     "output_type": "stream",
     "text": [
      "RMSE: 0.24647958189994884\n"
     ]
    }
   ],
   "source": [
    "pred_train = model.predict(train_x, train_y)"
   ],
   "metadata": {
    "collapsed": false,
    "ExecuteTime": {
     "end_time": "2024-01-25T09:17:45.966357Z",
     "start_time": "2024-01-25T09:17:45.918189200Z"
    }
   }
  },
  {
   "cell_type": "code",
   "execution_count": 85,
   "outputs": [
    {
     "name": "stdout",
     "output_type": "stream",
     "text": [
      "RMSE: 0.24602323847530375\n"
     ]
    }
   ],
   "source": [
    "pred_test = model.predict(test_x, test_y)"
   ],
   "metadata": {
    "collapsed": false,
    "ExecuteTime": {
     "end_time": "2024-01-25T09:17:47.143868800Z",
     "start_time": "2024-01-25T09:17:47.112788600Z"
    }
   }
  },
  {
   "cell_type": "code",
   "execution_count": 86,
   "outputs": [
    {
     "data": {
      "text/plain": "Text(0, 0.5, 'Cost Function')"
     },
     "execution_count": 86,
     "metadata": {},
     "output_type": "execute_result"
    },
    {
     "data": {
      "text/plain": "<Figure size 640x480 with 1 Axes>",
      "image/png": "[encoded data removed]"
     },
     "metadata": {},
     "output_type": "display_data"
    }
   ],
   "source": [
    "import matplotlib.pyplot as plt\n",
    "import numpy as np\n",
    "plt.plot(np.arange(0, len(model.costs))*100, model.costs)\n",
    "plt.title(f'Cost Function vs Number of Epochs ({model.learning_rate})')\n",
    "plt.xlabel('Epochs')\n",
    "plt.ylabel('Cost Function')"
   ],
   "metadata": {
    "collapsed": false,
    "ExecuteTime": {
     "end_time": "2024-01-25T09:17:50.358757200Z",
     "start_time": "2024-01-25T09:17:50.193435300Z"
    }
   }
  },
  {
   "cell_type": "code",
   "execution_count": 87,
   "outputs": [
    {
     "data": {
      "text/plain": "0.2856504197321246"
     },
     "execution_count": 87,
     "metadata": {},
     "output_type": "execute_result"
    }
   ],
   "source": [
    "from sklearn.metrics import mean_absolute_percentage_error\n",
    "mape = mean_absolute_percentage_error(test_y, pred_test)\n",
    "mape"
   ],
   "metadata": {
    "collapsed": false,
    "ExecuteTime": {
     "end_time": "2024-01-25T09:17:57.113798800Z",
     "start_time": "2024-01-25T09:17:57.105714900Z"
    }
   }
  },
  {
   "cell_type": "code",
   "execution_count": 103,
   "outputs": [
    {
     "data": {
      "text/plain": "(20640,)"
     },
     "execution_count": 103,
     "metadata": {},
     "output_type": "execute_result"
    }
   ],
   "source": [
    "features['AveRooms'].to_numpy().T.shape"
   ],
   "metadata": {
    "collapsed": false,
    "ExecuteTime": {
     "end_time": "2024-01-25T09:24:12.732766Z",
     "start_time": "2024-01-25T09:24:12.711773200Z"
    }
   }
  },
  {
   "cell_type": "code",
   "execution_count": 105,
   "outputs": [
    {
     "data": {
      "text/plain": "True"
     },
     "execution_count": 105,
     "metadata": {},
     "output_type": "execute_result"
    }
   ],
   "source": [
    "type(target) == pd.core.frame.DataFrame"
   ],
   "metadata": {
    "collapsed": false,
    "ExecuteTime": {
     "end_time": "2024-01-25T09:24:30.265542600Z",
     "start_time": "2024-01-25T09:24:30.249412500Z"
    }
   }
  }
 ],
 "metadata": {
  "kernelspec": {
   "display_name": "Python 3",
   "language": "python",
   "name": "python3"
  },
  "language_info": {
   "codemirror_mode": {
    "name": "ipython",
    "version": 2
   },
   "file_extension": ".py",
   "mimetype": "text/x-python",
   "name": "python",
   "nbconvert_exporter": "python",
   "pygments_lexer": "ipython2",
   "version": "2.7.6"
  }
 },
 "nbformat": 4,
 "nbformat_minor": 0
}
