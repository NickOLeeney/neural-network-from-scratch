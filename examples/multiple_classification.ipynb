{
 "cells": [
  {
   "cell_type": "code",
   "execution_count": 1,
   "id": "initial_id",
   "metadata": {
    "collapsed": true,
    "ExecuteTime": {
     "end_time": "2024-03-15T10:45:27.216419100Z",
     "start_time": "2024-03-15T10:45:24.864809200Z"
    }
   },
   "outputs": [],
   "source": [
    "import pandas as pd\n",
    "from neuralNetworkFromScratch import NeuralNetworkFromScratch\n",
    "import numpy as np\n",
    "from sklearn.datasets import load_wine\n",
    "from sklearn.model_selection import train_test_split\n",
    "\n",
    "import matplotlib.pyplot as plt"
   ]
  },
  {
   "cell_type": "code",
   "execution_count": 2,
   "outputs": [],
   "source": [
    "def min_max_scaler(series):\n",
    "    normalized = (series - min(series)) / (max(series)-min(series))\n",
    "    return normalized"
   ],
   "metadata": {
    "collapsed": false,
    "ExecuteTime": {
     "end_time": "2024-03-15T10:45:27.220864800Z",
     "start_time": "2024-03-15T10:45:27.219428400Z"
    }
   }
  },
  {
   "cell_type": "markdown",
   "source": [
    "# Example 1: Simple multiple classification"
   ],
   "metadata": {
    "collapsed": false
   }
  },
  {
   "cell_type": "code",
   "execution_count": 3,
   "outputs": [],
   "source": [
    "data = load_wine()\n",
    "features = pd.DataFrame(data=data.data, columns=data.feature_names)\n",
    "target = pd.DataFrame(data=data.target, columns=['class'])\n",
    "df = pd.concat([features, target], axis=1)"
   ],
   "metadata": {
    "collapsed": false,
    "ExecuteTime": {
     "end_time": "2024-03-15T10:45:27.238919900Z",
     "start_time": "2024-03-15T10:45:27.220864800Z"
    }
   }
  },
  {
   "cell_type": "code",
   "execution_count": 4,
   "outputs": [],
   "source": [
    "for col in features.columns:\n",
    "    features[col] = min_max_scaler(features[col])"
   ],
   "metadata": {
    "collapsed": false,
    "ExecuteTime": {
     "end_time": "2024-03-15T10:45:27.247795500Z",
     "start_time": "2024-03-15T10:45:27.238919900Z"
    }
   }
  },
  {
   "cell_type": "code",
   "execution_count": 5,
   "outputs": [],
   "source": [
    "# Train - Test Split\n",
    "train_x, test_x, train_y, test_y = train_test_split(features, target, test_size=0.33, random_state=42)"
   ],
   "metadata": {
    "collapsed": false,
    "ExecuteTime": {
     "end_time": "2024-03-15T10:45:27.265311800Z",
     "start_time": "2024-03-15T10:45:27.250637500Z"
    }
   }
  },
  {
   "cell_type": "markdown",
   "source": [
    "## 3. Prediction"
   ],
   "metadata": {
    "collapsed": false
   }
  },
  {
   "cell_type": "code",
   "execution_count": 6,
   "outputs": [],
   "source": [
    "n_classes = train_y['class'].nunique()"
   ],
   "metadata": {
    "collapsed": false,
    "ExecuteTime": {
     "end_time": "2024-03-15T10:45:27.265311800Z",
     "start_time": "2024-03-15T10:45:27.256177900Z"
    }
   }
  },
  {
   "cell_type": "code",
   "execution_count": 7,
   "outputs": [],
   "source": [
    "model = NeuralNetworkFromScratch(layers_dims=[train_x.shape[1], 5,5,5, n_classes], task='multiple_classification', learning_rate=1e-3, n_epochs=50000, print_cost=True, initialization='Xavier')"
   ],
   "metadata": {
    "collapsed": false,
    "ExecuteTime": {
     "end_time": "2024-03-15T10:45:27.274451100Z",
     "start_time": "2024-03-15T10:45:27.265311800Z"
    }
   }
  },
  {
   "cell_type": "code",
   "execution_count": 8,
   "outputs": [
    {
     "name": "stdout",
     "output_type": "stream",
     "text": [
      "\u001B[93mThere is a mistake in the backward propagation! difference = 0.205902489203756\u001B[0m\n",
      "Cost after iteration 0: 1.9126691142760461\n",
      "\u001B[93mThere is a mistake in the backward propagation! difference = 0.295962711588187\u001B[0m\n",
      "\u001B[93mThere is a mistake in the backward propagation! difference = 0.3408854468910971\u001B[0m\n",
      "\u001B[93mThere is a mistake in the backward propagation! difference = 0.3295339682580166\u001B[0m\n",
      "\u001B[93mThere is a mistake in the backward propagation! difference = 0.3557321020892344\u001B[0m\n",
      "\u001B[93mThere is a mistake in the backward propagation! difference = 0.3375709264432686\u001B[0m\n",
      "Cost after iteration 5000: 1.89989009317631\n",
      "\u001B[93mThere is a mistake in the backward propagation! difference = 0.37914711050256833\u001B[0m\n",
      "\u001B[93mThere is a mistake in the backward propagation! difference = 0.4059094593198315\u001B[0m\n",
      "\u001B[93mThere is a mistake in the backward propagation! difference = 0.4425992787907\u001B[0m\n",
      "\u001B[93mThere is a mistake in the backward propagation! difference = 0.40819701157931215\u001B[0m\n",
      "\u001B[93mThere is a mistake in the backward propagation! difference = 0.4500266431155604\u001B[0m\n",
      "Cost after iteration 10000: 1.8907878570808347\n",
      "\u001B[93mThere is a mistake in the backward propagation! difference = 0.4301033438725694\u001B[0m\n",
      "\u001B[93mThere is a mistake in the backward propagation! difference = 0.4776040881632543\u001B[0m\n",
      "\u001B[93mThere is a mistake in the backward propagation! difference = 0.5168532044052822\u001B[0m\n",
      "\u001B[93mThere is a mistake in the backward propagation! difference = 0.53793342714851\u001B[0m\n",
      "\u001B[93mThere is a mistake in the backward propagation! difference = 0.5578885782584498\u001B[0m\n",
      "Cost after iteration 15000: 1.8802513953426085\n",
      "\u001B[93mThere is a mistake in the backward propagation! difference = 0.5548964164847059\u001B[0m\n",
      "\u001B[93mThere is a mistake in the backward propagation! difference = 0.6275334237190492\u001B[0m\n",
      "\u001B[93mThere is a mistake in the backward propagation! difference = 0.6090860095058961\u001B[0m\n",
      "\u001B[93mThere is a mistake in the backward propagation! difference = 0.6028307355044659\u001B[0m\n",
      "\u001B[93mThere is a mistake in the backward propagation! difference = 0.6413245535659629\u001B[0m\n",
      "Cost after iteration 20000: 1.869601314917937\n",
      "\u001B[93mThere is a mistake in the backward propagation! difference = 0.6402642572136729\u001B[0m\n",
      "\u001B[93mThere is a mistake in the backward propagation! difference = 0.6695647636220269\u001B[0m\n",
      "\u001B[93mThere is a mistake in the backward propagation! difference = 0.63858771169342\u001B[0m\n",
      "\u001B[93mThere is a mistake in the backward propagation! difference = 0.65372480710956\u001B[0m\n",
      "\u001B[93mThere is a mistake in the backward propagation! difference = 0.7117196601285605\u001B[0m\n",
      "Cost after iteration 25000: 1.855824569079154\n",
      "\u001B[93mThere is a mistake in the backward propagation! difference = 0.757634524474802\u001B[0m\n",
      "\u001B[93mThere is a mistake in the backward propagation! difference = 0.7734031418145748\u001B[0m\n",
      "\u001B[93mThere is a mistake in the backward propagation! difference = 0.7539298712074094\u001B[0m\n",
      "\u001B[93mThere is a mistake in the backward propagation! difference = 0.7734839104876828\u001B[0m\n",
      "\u001B[93mThere is a mistake in the backward propagation! difference = 0.793182797244756\u001B[0m\n",
      "Cost after iteration 30000: 1.8459596544244854\n",
      "\u001B[93mThere is a mistake in the backward propagation! difference = 0.7711117608090944\u001B[0m\n",
      "\u001B[93mThere is a mistake in the backward propagation! difference = 0.7789525067579451\u001B[0m\n",
      "\u001B[93mThere is a mistake in the backward propagation! difference = 0.8516438972993344\u001B[0m\n",
      "\u001B[93mThere is a mistake in the backward propagation! difference = 0.8564905462662497\u001B[0m\n",
      "\u001B[93mThere is a mistake in the backward propagation! difference = 0.8353792763356047\u001B[0m\n",
      "Cost after iteration 35000: 1.8416839527763849\n",
      "\u001B[93mThere is a mistake in the backward propagation! difference = 0.8146398676192423\u001B[0m\n",
      "\u001B[93mThere is a mistake in the backward propagation! difference = 0.8402439844265971\u001B[0m\n",
      "\u001B[93mThere is a mistake in the backward propagation! difference = 0.813870372508136\u001B[0m\n",
      "\u001B[93mThere is a mistake in the backward propagation! difference = 0.8466145562308361\u001B[0m\n",
      "\u001B[93mThere is a mistake in the backward propagation! difference = 0.818724733499475\u001B[0m\n",
      "Cost after iteration 40000: 1.8437126035505464\n",
      "\u001B[93mThere is a mistake in the backward propagation! difference = 0.8741189976598714\u001B[0m\n",
      "\u001B[93mThere is a mistake in the backward propagation! difference = 0.8500867484880672\u001B[0m\n",
      "\u001B[93mThere is a mistake in the backward propagation! difference = 0.8200006446526434\u001B[0m\n",
      "\u001B[93mThere is a mistake in the backward propagation! difference = 0.8167674172256102\u001B[0m\n",
      "\u001B[93mThere is a mistake in the backward propagation! difference = 0.816744848687279\u001B[0m\n",
      "Cost after iteration 45000: 1.8509867460107674\n",
      "\u001B[93mThere is a mistake in the backward propagation! difference = 0.7897517838972596\u001B[0m\n",
      "\u001B[93mThere is a mistake in the backward propagation! difference = 0.7907399605069375\u001B[0m\n",
      "\u001B[93mThere is a mistake in the backward propagation! difference = 0.7912634389803433\u001B[0m\n",
      "\u001B[93mThere is a mistake in the backward propagation! difference = 0.7516572522749035\u001B[0m\n",
      "Cost after iteration 49999: 1.8767924520187071\n"
     ]
    },
    {
     "data": {
      "text/plain": "<Figure size 640x480 with 1 Axes>",
      "image/png": "[encoded data removed]"
     },
     "metadata": {},
     "output_type": "display_data"
    }
   ],
   "source": [
    "parameters, costs = model.fit(train_x, train_y, print_every=5000, plot_cost_function=True, debug=1000)"
   ],
   "metadata": {
    "collapsed": false,
    "ExecuteTime": {
     "end_time": "2024-03-15T10:45:50.850518200Z",
     "start_time": "2024-03-15T10:45:39.148033400Z"
    }
   }
  },
  {
   "cell_type": "code",
   "execution_count": 19,
   "outputs": [
    {
     "name": "stdout",
     "output_type": "stream",
     "text": [
      "Accuracy: 0.31092436974789917\n"
     ]
    }
   ],
   "source": [
    "pred_train = model.predict(train_x, train_y)"
   ],
   "metadata": {
    "collapsed": false,
    "ExecuteTime": {
     "end_time": "2024-02-21T11:30:03.431899300Z",
     "start_time": "2024-02-21T11:30:03.419151700Z"
    }
   }
  },
  {
   "cell_type": "code",
   "execution_count": 20,
   "outputs": [
    {
     "name": "stdout",
     "output_type": "stream",
     "text": [
      "Accuracy: 0.3898305084745763\n"
     ]
    }
   ],
   "source": [
    "a = model.predict(test_x, test_y)"
   ],
   "metadata": {
    "collapsed": false,
    "ExecuteTime": {
     "end_time": "2024-02-21T11:30:05.232822800Z",
     "start_time": "2024-02-21T11:30:05.218695800Z"
    }
   }
  },
  {
   "cell_type": "code",
   "execution_count": 31,
   "outputs": [],
   "source": [
    "Z = np.random.uniform(0,1e1, [3,10])"
   ],
   "metadata": {
    "collapsed": false,
    "ExecuteTime": {
     "end_time": "2024-02-06T09:06:57.081558900Z",
     "start_time": "2024-02-06T09:06:55.953784800Z"
    }
   }
  },
  {
   "cell_type": "code",
   "execution_count": 32,
   "outputs": [
    {
     "data": {
      "text/plain": "array([[4.31537352e-01, 2.23493181e-02, 9.00776521e-02, 9.85287795e-01,\n        4.89966299e-03, 2.28418980e-01, 6.66496901e-03, 4.40367488e-03,\n        8.16739305e-01, 1.44975048e-02],\n       [5.83706122e-04, 2.13550393e-02, 7.49691199e-01, 1.44200877e-02,\n        3.83548501e-01, 2.50276955e-02, 9.93117301e-01, 2.09719463e-01,\n        1.14147613e-04, 5.08545161e-01],\n       [5.67878942e-01, 9.56295643e-01, 1.60231149e-01, 2.92116871e-04,\n        6.11551836e-01, 7.46553324e-01, 2.17729678e-04, 7.85876862e-01,\n        1.83146547e-01, 4.76957334e-01]])"
     },
     "execution_count": 32,
     "metadata": {},
     "output_type": "execute_result"
    }
   ],
   "source": [
    "# softmax\n",
    "sum_exp = np.exp(Z).sum(axis=0)\n",
    "A = np.exp(Z) / sum_exp\n",
    "A"
   ],
   "metadata": {
    "collapsed": false,
    "ExecuteTime": {
     "end_time": "2024-02-06T09:06:57.168422Z",
     "start_time": "2024-02-06T09:06:57.163585800Z"
    }
   }
  },
  {
   "cell_type": "code",
   "execution_count": 59,
   "outputs": [
    {
     "data": {
      "text/plain": "array([[2],\n       [2],\n       [1],\n       [0],\n       [2],\n       [2],\n       [1],\n       [2],\n       [0],\n       [1]], dtype=int64)"
     },
     "execution_count": 59,
     "metadata": {},
     "output_type": "execute_result"
    }
   ],
   "source": [
    "output = []\n",
    "for col in range(0, A.shape[1]):\n",
    "    out_class = np.where(A[:,col] == max(A[:,col]))[0]\n",
    "    output.append(out_class)\n",
    "np.array(output)"
   ],
   "metadata": {
    "collapsed": false,
    "ExecuteTime": {
     "end_time": "2024-02-06T09:19:00.752001200Z",
     "start_time": "2024-02-06T09:19:00.735038400Z"
    }
   }
  },
  {
   "cell_type": "code",
   "execution_count": 12,
   "outputs": [],
   "source": [
    "AL = np.random.uniform(0,1,[3,119])\n",
    "Y = np.round((np.random.uniform(0,1,[3,119])),0)\n",
    "m = Y.shape[1]"
   ],
   "metadata": {
    "collapsed": false,
    "ExecuteTime": {
     "end_time": "2024-02-05T08:49:46.961751300Z",
     "start_time": "2024-02-05T08:49:46.960187500Z"
    }
   }
  },
  {
   "cell_type": "code",
   "execution_count": 13,
   "outputs": [],
   "source": [
    "cost = (1. / m) * (-Y* np.log(AL) - (1 - Y)* np.log(1 - AL))"
   ],
   "metadata": {
    "collapsed": false,
    "ExecuteTime": {
     "end_time": "2024-02-05T08:49:53.100664900Z",
     "start_time": "2024-02-05T08:49:53.094343400Z"
    }
   }
  },
  {
   "cell_type": "code",
   "execution_count": 16,
   "outputs": [
    {
     "data": {
      "text/plain": "3.0731787261176366"
     },
     "execution_count": 16,
     "metadata": {},
     "output_type": "execute_result"
    }
   ],
   "source": [],
   "metadata": {
    "collapsed": false,
    "ExecuteTime": {
     "end_time": "2024-02-05T08:50:19.696177800Z",
     "start_time": "2024-02-05T08:50:19.681063700Z"
    }
   }
  }
 ],
 "metadata": {
  "kernelspec": {
   "display_name": "Python 3",
   "language": "python",
   "name": "python3"
  },
  "language_info": {
   "codemirror_mode": {
    "name": "ipython",
    "version": 2
   },
   "file_extension": ".py",
   "mimetype": "text/x-python",
   "name": "python",
   "nbconvert_exporter": "python",
   "pygments_lexer": "ipython2",
   "version": "2.7.6"
  }
 },
 "nbformat": 4,
 "nbformat_minor": 5
}
