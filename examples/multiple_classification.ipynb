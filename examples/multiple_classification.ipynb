{
 "cells": [
  {
   "cell_type": "code",
   "execution_count": 1,
   "id": "initial_id",
   "metadata": {
    "collapsed": true,
    "ExecuteTime": {
     "end_time": "2024-02-08T10:21:03.800848200Z",
     "start_time": "2024-02-08T10:21:01.555071900Z"
    }
   },
   "outputs": [],
   "source": [
    "import pandas as pd\n",
    "from neuralNetworkFromScratch import NeuralNetworkFromScratch\n",
    "import numpy as np\n",
    "from sklearn.datasets import load_wine\n",
    "from sklearn.model_selection import train_test_split\n",
    "\n",
    "import matplotlib.pyplot as plt"
   ]
  },
  {
   "cell_type": "code",
   "execution_count": 2,
   "outputs": [],
   "source": [
    "def min_max_scaler(series):\n",
    "    normalized = (series - min(series)) / (max(series)-min(series))\n",
    "    return normalized"
   ],
   "metadata": {
    "collapsed": false,
    "ExecuteTime": {
     "end_time": "2024-02-08T10:21:03.811861600Z",
     "start_time": "2024-02-08T10:21:03.800848200Z"
    }
   }
  },
  {
   "cell_type": "markdown",
   "source": [
    "# Example 1: Simple multiple classification"
   ],
   "metadata": {
    "collapsed": false
   }
  },
  {
   "cell_type": "code",
   "execution_count": 3,
   "outputs": [],
   "source": [
    "data = load_wine()\n",
    "features = pd.DataFrame(data=data.data, columns=data.feature_names)\n",
    "target = pd.DataFrame(data=data.target, columns=['class'])\n",
    "df = pd.concat([features, target], axis=1)"
   ],
   "metadata": {
    "collapsed": false,
    "ExecuteTime": {
     "end_time": "2024-02-08T10:21:03.847722400Z",
     "start_time": "2024-02-08T10:21:03.812517300Z"
    }
   }
  },
  {
   "cell_type": "code",
   "execution_count": 4,
   "outputs": [],
   "source": [
    "for col in features.columns:\n",
    "    features[col] = min_max_scaler(features[col])"
   ],
   "metadata": {
    "collapsed": false,
    "ExecuteTime": {
     "end_time": "2024-02-08T10:21:03.875271100Z",
     "start_time": "2024-02-08T10:21:03.838716700Z"
    }
   }
  },
  {
   "cell_type": "code",
   "execution_count": 5,
   "outputs": [],
   "source": [
    "# Train - Test Split\n",
    "train_x, test_x, train_y, test_y = train_test_split(features, target, test_size=0.33, random_state=42)"
   ],
   "metadata": {
    "collapsed": false,
    "ExecuteTime": {
     "end_time": "2024-02-08T10:21:03.875271100Z",
     "start_time": "2024-02-08T10:21:03.843727900Z"
    }
   }
  },
  {
   "cell_type": "markdown",
   "source": [
    "## 3. Prediction"
   ],
   "metadata": {
    "collapsed": false
   }
  },
  {
   "cell_type": "code",
   "execution_count": 6,
   "outputs": [],
   "source": [
    "n_classes = train_y['class'].nunique()"
   ],
   "metadata": {
    "collapsed": false,
    "ExecuteTime": {
     "end_time": "2024-02-08T10:21:03.875271100Z",
     "start_time": "2024-02-08T10:21:03.847722400Z"
    }
   }
  },
  {
   "cell_type": "code",
   "execution_count": 16,
   "outputs": [],
   "source": [
    "model = NeuralNetworkFromScratch(layers_dims=[train_x.shape[1], 5,4, n_classes], task='multiple_classification', learning_rate=1e-3, n_epochs=50000, print_cost=True)"
   ],
   "metadata": {
    "collapsed": false,
    "ExecuteTime": {
     "end_time": "2024-02-08T10:21:56.356198Z",
     "start_time": "2024-02-08T10:21:56.340095700Z"
    }
   }
  },
  {
   "cell_type": "code",
   "execution_count": null,
   "outputs": [
    {
     "name": "stdout",
     "output_type": "stream",
     "text": [
      "Cost after iteration 0: 1.9032639892967114\n",
      "Cost after iteration 1000: 1.8950777924819684\n",
      "Cost after iteration 2000: 1.8926563213335932\n",
      "Cost after iteration 3000: 1.8910629307281852\n",
      "Cost after iteration 4000: 1.8896842027423795\n"
     ]
    }
   ],
   "source": [
    "parameters, costs = model.fit(train_x, train_y, print_every=1000, plot_cost_function=True)"
   ],
   "metadata": {
    "collapsed": false,
    "is_executing": true
   }
  },
  {
   "cell_type": "code",
   "execution_count": 19,
   "outputs": [
    {
     "name": "stdout",
     "output_type": "stream",
     "text": [
      "Accuracy: 0.3277310924369748\n"
     ]
    }
   ],
   "source": [
    "pred_train = model.predict(train_x, train_y)"
   ],
   "metadata": {
    "collapsed": false,
    "ExecuteTime": {
     "end_time": "2024-02-08T10:22:11.484293400Z",
     "start_time": "2024-02-08T10:22:11.453056400Z"
    }
   }
  },
  {
   "cell_type": "code",
   "execution_count": 20,
   "outputs": [
    {
     "name": "stdout",
     "output_type": "stream",
     "text": [
      "Accuracy: 0.33898305084745767\n"
     ]
    }
   ],
   "source": [
    "a = model.predict(test_x, test_y)"
   ],
   "metadata": {
    "collapsed": false,
    "ExecuteTime": {
     "end_time": "2024-02-08T10:22:11.889694200Z",
     "start_time": "2024-02-08T10:22:11.861960500Z"
    }
   }
  },
  {
   "cell_type": "code",
   "execution_count": 31,
   "outputs": [],
   "source": [
    "Z = np.random.uniform(0,1e1, [3,10])"
   ],
   "metadata": {
    "collapsed": false,
    "ExecuteTime": {
     "end_time": "2024-02-06T09:06:57.081558900Z",
     "start_time": "2024-02-06T09:06:55.953784800Z"
    }
   }
  },
  {
   "cell_type": "code",
   "execution_count": 32,
   "outputs": [
    {
     "data": {
      "text/plain": "array([[4.31537352e-01, 2.23493181e-02, 9.00776521e-02, 9.85287795e-01,\n        4.89966299e-03, 2.28418980e-01, 6.66496901e-03, 4.40367488e-03,\n        8.16739305e-01, 1.44975048e-02],\n       [5.83706122e-04, 2.13550393e-02, 7.49691199e-01, 1.44200877e-02,\n        3.83548501e-01, 2.50276955e-02, 9.93117301e-01, 2.09719463e-01,\n        1.14147613e-04, 5.08545161e-01],\n       [5.67878942e-01, 9.56295643e-01, 1.60231149e-01, 2.92116871e-04,\n        6.11551836e-01, 7.46553324e-01, 2.17729678e-04, 7.85876862e-01,\n        1.83146547e-01, 4.76957334e-01]])"
     },
     "execution_count": 32,
     "metadata": {},
     "output_type": "execute_result"
    }
   ],
   "source": [
    "# softmax\n",
    "sum_exp = np.exp(Z).sum(axis=0)\n",
    "A = np.exp(Z) / sum_exp\n",
    "A"
   ],
   "metadata": {
    "collapsed": false,
    "ExecuteTime": {
     "end_time": "2024-02-06T09:06:57.168422Z",
     "start_time": "2024-02-06T09:06:57.163585800Z"
    }
   }
  },
  {
   "cell_type": "code",
   "execution_count": 59,
   "outputs": [
    {
     "data": {
      "text/plain": "array([[2],\n       [2],\n       [1],\n       [0],\n       [2],\n       [2],\n       [1],\n       [2],\n       [0],\n       [1]], dtype=int64)"
     },
     "execution_count": 59,
     "metadata": {},
     "output_type": "execute_result"
    }
   ],
   "source": [
    "output = []\n",
    "for col in range(0, A.shape[1]):\n",
    "    out_class = np.where(A[:,col] == max(A[:,col]))[0]\n",
    "    output.append(out_class)\n",
    "np.array(output)"
   ],
   "metadata": {
    "collapsed": false,
    "ExecuteTime": {
     "end_time": "2024-02-06T09:19:00.752001200Z",
     "start_time": "2024-02-06T09:19:00.735038400Z"
    }
   }
  },
  {
   "cell_type": "code",
   "execution_count": 12,
   "outputs": [],
   "source": [
    "AL = np.random.uniform(0,1,[3,119])\n",
    "Y = np.round((np.random.uniform(0,1,[3,119])),0)\n",
    "m = Y.shape[1]"
   ],
   "metadata": {
    "collapsed": false,
    "ExecuteTime": {
     "end_time": "2024-02-05T08:49:46.961751300Z",
     "start_time": "2024-02-05T08:49:46.960187500Z"
    }
   }
  },
  {
   "cell_type": "code",
   "execution_count": 13,
   "outputs": [],
   "source": [
    "cost = (1. / m) * (-Y* np.log(AL) - (1 - Y)* np.log(1 - AL))"
   ],
   "metadata": {
    "collapsed": false,
    "ExecuteTime": {
     "end_time": "2024-02-05T08:49:53.100664900Z",
     "start_time": "2024-02-05T08:49:53.094343400Z"
    }
   }
  },
  {
   "cell_type": "code",
   "execution_count": 16,
   "outputs": [
    {
     "data": {
      "text/plain": "3.0731787261176366"
     },
     "execution_count": 16,
     "metadata": {},
     "output_type": "execute_result"
    }
   ],
   "source": [],
   "metadata": {
    "collapsed": false,
    "ExecuteTime": {
     "end_time": "2024-02-05T08:50:19.696177800Z",
     "start_time": "2024-02-05T08:50:19.681063700Z"
    }
   }
  }
 ],
 "metadata": {
  "kernelspec": {
   "display_name": "Python 3",
   "language": "python",
   "name": "python3"
  },
  "language_info": {
   "codemirror_mode": {
    "name": "ipython",
    "version": 2
   },
   "file_extension": ".py",
   "mimetype": "text/x-python",
   "name": "python",
   "nbconvert_exporter": "python",
   "pygments_lexer": "ipython2",
   "version": "2.7.6"
  }
 },
 "nbformat": 4,
 "nbformat_minor": 5
}
