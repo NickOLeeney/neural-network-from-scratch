{
 "cells": [
  {
   "cell_type": "code",
   "execution_count": 3,
   "id": "initial_id",
   "metadata": {
    "collapsed": true,
    "ExecuteTime": {
     "end_time": "2024-03-27T15:22:42.970005800Z",
     "start_time": "2024-03-27T15:22:39.523032700Z"
    }
   },
   "outputs": [],
   "source": [
    "import pandas as pd\n",
    "from neuralNetworkFromScratch import NeuralNetworkFromScratch\n",
    "import numpy as np\n",
    "from sklearn.datasets import load_wine\n",
    "from sklearn.model_selection import train_test_split\n",
    "\n",
    "import matplotlib.pyplot as plt"
   ]
  },
  {
   "cell_type": "code",
   "execution_count": 4,
   "outputs": [],
   "source": [
    "def min_max_scaler(series):\n",
    "    normalized = (series - min(series)) / (max(series)-min(series))\n",
    "    return normalized"
   ],
   "metadata": {
    "collapsed": false,
    "ExecuteTime": {
     "end_time": "2024-03-27T15:22:42.990424900Z",
     "start_time": "2024-03-27T15:22:42.967368700Z"
    }
   }
  },
  {
   "cell_type": "markdown",
   "source": [
    "# Example 1: Simple multiple classification"
   ],
   "metadata": {
    "collapsed": false
   }
  },
  {
   "cell_type": "code",
   "execution_count": 8,
   "outputs": [],
   "source": [
    "from sklearn import datasets\n",
    "\n",
    "data = datasets.load_iris()"
   ],
   "metadata": {
    "collapsed": false,
    "ExecuteTime": {
     "end_time": "2024-03-27T15:23:40.661448400Z",
     "start_time": "2024-03-27T15:23:40.648462600Z"
    }
   }
  },
  {
   "cell_type": "code",
   "execution_count": 9,
   "outputs": [],
   "source": [
    "features = pd.DataFrame(data=data.data, columns=data.feature_names)\n",
    "target = pd.DataFrame(data=data.target, columns=['class'])\n",
    "df = pd.concat([features, target], axis=1)"
   ],
   "metadata": {
    "collapsed": false,
    "ExecuteTime": {
     "end_time": "2024-03-27T15:23:41.099891300Z",
     "start_time": "2024-03-27T15:23:41.089321300Z"
    }
   }
  },
  {
   "cell_type": "code",
   "execution_count": 10,
   "outputs": [],
   "source": [
    "for col in features.columns:\n",
    "    features[col] = min_max_scaler(features[col])"
   ],
   "metadata": {
    "collapsed": false,
    "ExecuteTime": {
     "end_time": "2024-03-27T15:23:43.569327600Z",
     "start_time": "2024-03-27T15:23:43.548949800Z"
    }
   }
  },
  {
   "cell_type": "code",
   "execution_count": 12,
   "outputs": [
    {
     "data": {
      "text/plain": "     sepal length (cm)  sepal width (cm)  petal length (cm)  petal width (cm)\n96            0.388889          0.375000           0.542373          0.500000\n105           0.916667          0.416667           0.949153          0.833333\n66            0.361111          0.416667           0.593220          0.583333\n0             0.222222          0.625000           0.067797          0.041667\n122           0.944444          0.333333           0.966102          0.791667\n..                 ...               ...                ...               ...\n71            0.500000          0.333333           0.508475          0.500000\n106           0.166667          0.208333           0.593220          0.666667\n14            0.416667          0.833333           0.033898          0.041667\n92            0.416667          0.250000           0.508475          0.458333\n102           0.777778          0.416667           0.830508          0.833333\n\n[100 rows x 4 columns]",
      "text/html": "<div>\n<style scoped>\n    .dataframe tbody tr th:only-of-type {\n        vertical-align: middle;\n    }\n\n    .dataframe tbody tr th {\n        vertical-align: top;\n    }\n\n    .dataframe thead th {\n        text-align: right;\n    }\n</style>\n<table border=\"1\" class=\"dataframe\">\n  <thead>\n    <tr style=\"text-align: right;\">\n      <th></th>\n      <th>sepal length (cm)</th>\n      <th>sepal width (cm)</th>\n      <th>petal length (cm)</th>\n      <th>petal width (cm)</th>\n    </tr>\n  </thead>\n  <tbody>\n    <tr>\n      <th>96</th>\n      <td>0.388889</td>\n      <td>0.375000</td>\n      <td>0.542373</td>\n      <td>0.500000</td>\n    </tr>\n    <tr>\n      <th>105</th>\n      <td>0.916667</td>\n      <td>0.416667</td>\n      <td>0.949153</td>\n      <td>0.833333</td>\n    </tr>\n    <tr>\n      <th>66</th>\n      <td>0.361111</td>\n      <td>0.416667</td>\n      <td>0.593220</td>\n      <td>0.583333</td>\n    </tr>\n    <tr>\n      <th>0</th>\n      <td>0.222222</td>\n      <td>0.625000</td>\n      <td>0.067797</td>\n      <td>0.041667</td>\n    </tr>\n    <tr>\n      <th>122</th>\n      <td>0.944444</td>\n      <td>0.333333</td>\n      <td>0.966102</td>\n      <td>0.791667</td>\n    </tr>\n    <tr>\n      <th>...</th>\n      <td>...</td>\n      <td>...</td>\n      <td>...</td>\n      <td>...</td>\n    </tr>\n    <tr>\n      <th>71</th>\n      <td>0.500000</td>\n      <td>0.333333</td>\n      <td>0.508475</td>\n      <td>0.500000</td>\n    </tr>\n    <tr>\n      <th>106</th>\n      <td>0.166667</td>\n      <td>0.208333</td>\n      <td>0.593220</td>\n      <td>0.666667</td>\n    </tr>\n    <tr>\n      <th>14</th>\n      <td>0.416667</td>\n      <td>0.833333</td>\n      <td>0.033898</td>\n      <td>0.041667</td>\n    </tr>\n    <tr>\n      <th>92</th>\n      <td>0.416667</td>\n      <td>0.250000</td>\n      <td>0.508475</td>\n      <td>0.458333</td>\n    </tr>\n    <tr>\n      <th>102</th>\n      <td>0.777778</td>\n      <td>0.416667</td>\n      <td>0.830508</td>\n      <td>0.833333</td>\n    </tr>\n  </tbody>\n</table>\n<p>100 rows × 4 columns</p>\n</div>"
     },
     "execution_count": 12,
     "metadata": {},
     "output_type": "execute_result"
    }
   ],
   "source": [
    "train_x"
   ],
   "metadata": {
    "collapsed": false,
    "ExecuteTime": {
     "end_time": "2024-03-27T15:23:48.474622800Z",
     "start_time": "2024-03-27T15:23:48.443535500Z"
    }
   }
  },
  {
   "cell_type": "code",
   "execution_count": 11,
   "outputs": [],
   "source": [
    "# Train - Test Split\n",
    "train_x, test_x, train_y, test_y = train_test_split(features, target, test_size=0.33, random_state=42)"
   ],
   "metadata": {
    "collapsed": false,
    "ExecuteTime": {
     "end_time": "2024-03-27T15:23:44.861315200Z",
     "start_time": "2024-03-27T15:23:44.854146700Z"
    }
   }
  },
  {
   "cell_type": "markdown",
   "source": [
    "## 3. Prediction"
   ],
   "metadata": {
    "collapsed": false
   }
  },
  {
   "cell_type": "code",
   "execution_count": 13,
   "outputs": [],
   "source": [
    "n_classes = train_y['class'].nunique()"
   ],
   "metadata": {
    "collapsed": false,
    "ExecuteTime": {
     "end_time": "2024-03-27T15:23:55.517957200Z",
     "start_time": "2024-03-27T15:23:55.506123Z"
    }
   }
  },
  {
   "cell_type": "code",
   "execution_count": 20,
   "outputs": [
    {
     "data": {
      "text/plain": "3"
     },
     "execution_count": 20,
     "metadata": {},
     "output_type": "execute_result"
    }
   ],
   "source": [
    "n_classes"
   ],
   "metadata": {
    "collapsed": false,
    "ExecuteTime": {
     "end_time": "2024-03-27T15:24:37.558872Z",
     "start_time": "2024-03-27T15:24:37.547298300Z"
    }
   }
  },
  {
   "cell_type": "code",
   "execution_count": 46,
   "outputs": [],
   "source": [
    "model = NeuralNetworkFromScratch(layers_dims=[train_x.shape[1], n_classes], task='multiple_classification', learning_rate=5e-3, n_epochs=40000, print_cost=True, initialization='He')"
   ],
   "metadata": {
    "collapsed": false,
    "ExecuteTime": {
     "end_time": "2024-03-27T15:27:03.026559300Z",
     "start_time": "2024-03-27T15:27:03.014035800Z"
    }
   }
  },
  {
   "cell_type": "code",
   "execution_count": 51,
   "outputs": [
    {
     "name": "stderr",
     "output_type": "stream",
     "text": [
      "C:\\Users\\maicol.nicolini\\AppData\\Local\\Programs\\Python\\Python311\\Lib\\site-packages\\sklearn\\preprocessing\\_encoders.py:868: FutureWarning: `sparse` was renamed to `sparse_output` in version 1.2 and will be removed in 1.4. `sparse_output` is ignored unless you leave `sparse` to its default value.\n",
      "  warnings.warn(\n"
     ]
    },
    {
     "name": "stdout",
     "output_type": "stream",
     "text": [
      "Cost after iteration 0: 0.4549783076288099\n",
      "Cost after iteration 5000: 0.19192752543419198\n",
      "Cost after iteration 10000: 0.15266916546341244\n",
      "Cost after iteration 15000: 0.13348384339777294\n",
      "Cost after iteration 20000: 0.12113614870209166\n",
      "Cost after iteration 25000: 0.11213325118461176\n",
      "Cost after iteration 30000: 0.10509142548913945\n",
      "Cost after iteration 35000: 0.09933174293894327\n",
      "Cost after iteration 39999: 0.09447512517841072\n"
     ]
    },
    {
     "data": {
      "text/plain": "<Figure size 640x480 with 1 Axes>",
      "image/png": "[encoded data removed]"
     },
     "metadata": {},
     "output_type": "display_data"
    }
   ],
   "source": [
    "parameters, costs = model.fit(train_x, train_y, print_every=5000, plot_cost_function=True)"
   ],
   "metadata": {
    "collapsed": false,
    "ExecuteTime": {
     "end_time": "2024-03-27T15:27:42.473829600Z",
     "start_time": "2024-03-27T15:27:38.192327300Z"
    }
   }
  },
  {
   "cell_type": "code",
   "execution_count": 52,
   "outputs": [
    {
     "name": "stdout",
     "output_type": "stream",
     "text": [
      "Accuracy: 0.94\n"
     ]
    }
   ],
   "source": [
    "pred_train = model.predict(train_x, train_y)"
   ],
   "metadata": {
    "collapsed": false,
    "ExecuteTime": {
     "end_time": "2024-03-27T15:27:49.262120Z",
     "start_time": "2024-03-27T15:27:49.252567800Z"
    }
   }
  },
  {
   "cell_type": "code",
   "execution_count": 53,
   "outputs": [
    {
     "name": "stdout",
     "output_type": "stream",
     "text": [
      "Accuracy: 0.9200000000000002\n"
     ]
    }
   ],
   "source": [
    "a = model.predict(test_x, test_y)"
   ],
   "metadata": {
    "collapsed": false,
    "ExecuteTime": {
     "end_time": "2024-03-27T15:27:50.023283200Z",
     "start_time": "2024-03-27T15:27:49.998665100Z"
    }
   }
  }
 ],
 "metadata": {
  "kernelspec": {
   "display_name": "Python 3",
   "language": "python",
   "name": "python3"
  },
  "language_info": {
   "codemirror_mode": {
    "name": "ipython",
    "version": 2
   },
   "file_extension": ".py",
   "mimetype": "text/x-python",
   "name": "python",
   "nbconvert_exporter": "python",
   "pygments_lexer": "ipython2",
   "version": "2.7.6"
  }
 },
 "nbformat": 4,
 "nbformat_minor": 5
}
