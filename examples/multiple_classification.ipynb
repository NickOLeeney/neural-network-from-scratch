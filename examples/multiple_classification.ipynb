{
 "cells": [
  {
   "cell_type": "code",
   "execution_count": 1,
   "id": "initial_id",
   "metadata": {
    "collapsed": true
   },
   "outputs": [],
   "source": [
    "import pandas as pd\n",
    "from neuralNetworkFromScratch import NeuralNetworkFromScratch\n",
    "import numpy as np\n",
    "from sklearn.datasets import load_wine\n",
    "from sklearn.model_selection import train_test_split\n",
    "\n",
    "import matplotlib.pyplot as plt"
   ]
  },
  {
   "cell_type": "code",
   "execution_count": 2,
   "outputs": [],
   "source": [
    "def min_max_scaler(series):\n",
    "    normalized = (series - min(series)) / (max(series)-min(series))\n",
    "    return normalized"
   ],
   "metadata": {
    "collapsed": false,
    "ExecuteTime": {
     "end_time": "2024-02-05T08:35:19.807170100Z",
     "start_time": "2024-02-05T08:35:19.796760900Z"
    }
   }
  },
  {
   "cell_type": "markdown",
   "source": [
    "# Example 1: Simple multiple classification"
   ],
   "metadata": {
    "collapsed": false
   }
  },
  {
   "cell_type": "code",
   "execution_count": 3,
   "outputs": [],
   "source": [
    "data = load_wine()\n",
    "features = pd.DataFrame(data=data.data, columns=data.feature_names)\n",
    "target = pd.DataFrame(data=data.target, columns=['class'])\n",
    "df = pd.concat([features, target], axis=1)"
   ],
   "metadata": {
    "collapsed": false,
    "ExecuteTime": {
     "end_time": "2024-02-05T08:35:19.862483200Z",
     "start_time": "2024-02-05T08:35:19.809302700Z"
    }
   }
  },
  {
   "cell_type": "code",
   "execution_count": 4,
   "outputs": [],
   "source": [
    "for col in features.columns:\n",
    "    features[col] = min_max_scaler(features[col])"
   ],
   "metadata": {
    "collapsed": false,
    "ExecuteTime": {
     "end_time": "2024-02-05T08:35:19.876579Z",
     "start_time": "2024-02-05T08:35:19.865475Z"
    }
   }
  },
  {
   "cell_type": "code",
   "execution_count": 5,
   "outputs": [],
   "source": [
    "# Train - Test Split\n",
    "train_x, test_x, train_y, test_y = train_test_split(features, target, test_size=0.33, random_state=42)"
   ],
   "metadata": {
    "collapsed": false,
    "ExecuteTime": {
     "end_time": "2024-02-05T08:35:19.895470300Z",
     "start_time": "2024-02-05T08:35:19.876579Z"
    }
   }
  },
  {
   "cell_type": "markdown",
   "source": [
    "## 3. Prediction"
   ],
   "metadata": {
    "collapsed": false
   }
  },
  {
   "cell_type": "code",
   "execution_count": 6,
   "outputs": [],
   "source": [
    "n_classes = train_y['class'].nunique()"
   ],
   "metadata": {
    "collapsed": false,
    "ExecuteTime": {
     "end_time": "2024-02-05T08:35:19.913753600Z",
     "start_time": "2024-02-05T08:35:19.894142200Z"
    }
   }
  },
  {
   "cell_type": "code",
   "execution_count": 7,
   "outputs": [],
   "source": [
    "model = NeuralNetworkFromScratch(layers_dims=[train_x.shape[1], 4, 2, n_classes], task='multiple_classification', learning_rate=1e-2, n_epochs=10000, print_cost=True)"
   ],
   "metadata": {
    "collapsed": false,
    "ExecuteTime": {
     "end_time": "2024-02-05T08:35:19.919354700Z",
     "start_time": "2024-02-05T08:35:19.905277100Z"
    }
   }
  },
  {
   "cell_type": "code",
   "execution_count": 11,
   "outputs": [
    {
     "name": "stderr",
     "output_type": "stream",
     "text": [
      "C:\\Users\\maicol.nicolini\\Documents\\Code\\learning\\neural-network-from-scratch\\neuralNetworkFromScratch.py:89: RuntimeWarning: invalid value encountered in scalar power\n",
      "  print(\"Cost after iteration {}: {}\".format(i, np.squeeze(cost ** 0.5)))\n",
      "C:\\Users\\maicol.nicolini\\Documents\\Code\\learning\\neural-network-from-scratch\\neuralNetworkFromScratch.py:91: RuntimeWarning: invalid value encountered in scalar power\n",
      "  costs.append(cost ** 0.5)\n"
     ]
    },
    {
     "name": "stdout",
     "output_type": "stream",
     "text": [
      "Cost after iteration 0: nan\n"
     ]
    },
    {
     "name": "stderr",
     "output_type": "stream",
     "text": [
      "<string>:1: RuntimeWarning: invalid value encountered in scalar power\n"
     ]
    },
    {
     "name": "stdout",
     "output_type": "stream",
     "text": [
      "Cost after iteration 1000: nan\n",
      "Cost after iteration {}: {}\n"
     ]
    },
    {
     "name": "stderr",
     "output_type": "stream",
     "text": [
      "C:\\Users\\maicol.nicolini\\Documents\\Code\\learning\\neural-network-from-scratch\\neuralNetworkFromScratch.py:89: RuntimeWarning: invalid value encountered in scalar power\n",
      "  print(\"Cost after iteration {}: {}\".format(i, np.squeeze(cost ** 0.5)))\n",
      "C:\\Users\\maicol.nicolini\\Documents\\Code\\learning\\neural-network-from-scratch\\neuralNetworkFromScratch.py:91: RuntimeWarning: invalid value encountered in scalar power\n",
      "  costs.append(cost ** 0.5)\n"
     ]
    },
    {
     "name": "stdout",
     "output_type": "stream",
     "text": [
      "Cost after iteration 1000: nan\n",
      "Cost after iteration 2000: nan\n",
      "Cost after iteration 3000: nan\n",
      "Cost after iteration 4000: nan\n",
      "Cost after iteration 5000: nan\n",
      "Cost after iteration 6000: nan\n",
      "Cost after iteration 7000: nan\n",
      "Cost after iteration 8000: nan\n",
      "Cost after iteration 9000: nan\n",
      "Cost after iteration 9999: nan\n"
     ]
    },
    {
     "data": {
      "text/plain": "<Figure size 640x480 with 1 Axes>",
      "image/png": "[encoded data removed]"
     },
     "metadata": {},
     "output_type": "display_data"
    }
   ],
   "source": [
    "parameters, costs = model.fit(train_x, train_y, print_every=1000, plot_cost_function=True)"
   ],
   "metadata": {
    "collapsed": false
   }
  },
  {
   "cell_type": "code",
   "execution_count": 9,
   "outputs": [],
   "source": [
    "pred_train = model.predict(train_x, train_y)"
   ],
   "metadata": {
    "collapsed": false,
    "ExecuteTime": {
     "end_time": "2024-02-02T10:56:45.506753Z",
     "start_time": "2024-02-02T10:56:45.503727300Z"
    }
   }
  },
  {
   "cell_type": "code",
   "execution_count": 10,
   "outputs": [],
   "source": [
    "pred = model.predict(test_x, test_y)"
   ],
   "metadata": {
    "collapsed": false,
    "ExecuteTime": {
     "end_time": "2024-02-02T10:56:48.348028600Z",
     "start_time": "2024-02-02T10:56:48.345092200Z"
    }
   }
  },
  {
   "cell_type": "code",
   "execution_count": 71,
   "outputs": [],
   "source": [
    "Z = np.random.uniform(0,1e1, 5)"
   ],
   "metadata": {
    "collapsed": false,
    "ExecuteTime": {
     "end_time": "2024-02-02T08:54:09.814892700Z",
     "start_time": "2024-02-02T08:54:09.802104900Z"
    }
   }
  },
  {
   "cell_type": "code",
   "execution_count": 81,
   "outputs": [
    {
     "data": {
      "text/plain": "array([1.16531738e-03, 9.12801903e-01, 3.37681667e-02, 1.12076562e-04,\n       5.21525363e-02])"
     },
     "execution_count": 81,
     "metadata": {},
     "output_type": "execute_result"
    }
   ],
   "source": [
    "# softmax\n",
    "sum_exp = np.exp(Z).sum()\n",
    "A = np.exp(Z) / sum_exp\n",
    "A"
   ],
   "metadata": {
    "collapsed": false,
    "ExecuteTime": {
     "end_time": "2024-02-02T08:57:47.114366800Z",
     "start_time": "2024-02-02T08:57:47.088586500Z"
    }
   }
  },
  {
   "cell_type": "code",
   "execution_count": 12,
   "outputs": [],
   "source": [
    "AL = np.random.uniform(0,1,[3,119])\n",
    "Y = np.round((np.random.uniform(0,1,[3,119])),0)\n",
    "m = Y.shape[1]"
   ],
   "metadata": {
    "collapsed": false,
    "ExecuteTime": {
     "end_time": "2024-02-05T08:49:46.961751300Z",
     "start_time": "2024-02-05T08:49:46.960187500Z"
    }
   }
  },
  {
   "cell_type": "code",
   "execution_count": 13,
   "outputs": [],
   "source": [
    "cost = (1. / m) * (-Y* np.log(AL) - (1 - Y)* np.log(1 - AL))"
   ],
   "metadata": {
    "collapsed": false,
    "ExecuteTime": {
     "end_time": "2024-02-05T08:49:53.100664900Z",
     "start_time": "2024-02-05T08:49:53.094343400Z"
    }
   }
  },
  {
   "cell_type": "code",
   "execution_count": 16,
   "outputs": [
    {
     "data": {
      "text/plain": "3.0731787261176366"
     },
     "execution_count": 16,
     "metadata": {},
     "output_type": "execute_result"
    }
   ],
   "source": [],
   "metadata": {
    "collapsed": false,
    "ExecuteTime": {
     "end_time": "2024-02-05T08:50:19.696177800Z",
     "start_time": "2024-02-05T08:50:19.681063700Z"
    }
   }
  }
 ],
 "metadata": {
  "kernelspec": {
   "display_name": "Python 3",
   "language": "python",
   "name": "python3"
  },
  "language_info": {
   "codemirror_mode": {
    "name": "ipython",
    "version": 2
   },
   "file_extension": ".py",
   "mimetype": "text/x-python",
   "name": "python",
   "nbconvert_exporter": "python",
   "pygments_lexer": "ipython2",
   "version": "2.7.6"
  }
 },
 "nbformat": 4,
 "nbformat_minor": 5
}
