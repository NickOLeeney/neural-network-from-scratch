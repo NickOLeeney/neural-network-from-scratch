{
 "cells": [
  {
   "cell_type": "code",
   "execution_count": 9,
   "id": "initial_id",
   "metadata": {
    "collapsed": true,
    "ExecuteTime": {
     "end_time": "2024-03-27T15:33:58.911009500Z",
     "start_time": "2024-03-27T15:33:58.902324800Z"
    }
   },
   "outputs": [],
   "source": [
    "import pandas as pd\n",
    "from neuralNetworkFromScratch import NeuralNetworkFromScratch\n",
    "import numpy as np\n",
    "from sklearn.datasets import load_wine\n",
    "from sklearn.model_selection import train_test_split\n",
    "\n",
    "import matplotlib.pyplot as plt"
   ]
  },
  {
   "cell_type": "code",
   "execution_count": 10,
   "outputs": [],
   "source": [
    "def min_max_scaler(series):\n",
    "    normalized = (series - min(series)) / (max(series)-min(series))\n",
    "    return normalized"
   ],
   "metadata": {
    "collapsed": false,
    "ExecuteTime": {
     "end_time": "2024-03-27T15:33:59.148753200Z",
     "start_time": "2024-03-27T15:33:59.144944900Z"
    }
   }
  },
  {
   "cell_type": "markdown",
   "source": [
    "# Example 1: Simple multiple classification"
   ],
   "metadata": {
    "collapsed": false
   }
  },
  {
   "cell_type": "code",
   "execution_count": 11,
   "outputs": [],
   "source": [
    "from sklearn import datasets\n",
    "\n",
    "data = datasets.load_iris()"
   ],
   "metadata": {
    "collapsed": false,
    "ExecuteTime": {
     "end_time": "2024-03-27T15:33:59.509322900Z",
     "start_time": "2024-03-27T15:33:59.491847800Z"
    }
   }
  },
  {
   "cell_type": "code",
   "execution_count": 12,
   "outputs": [],
   "source": [
    "features = pd.DataFrame(data=data.data, columns=data.feature_names)\n",
    "target = pd.DataFrame(data=data.target, columns=['class'])\n",
    "df = pd.concat([features, target], axis=1)"
   ],
   "metadata": {
    "collapsed": false,
    "ExecuteTime": {
     "end_time": "2024-03-27T15:33:59.712873800Z",
     "start_time": "2024-03-27T15:33:59.687006300Z"
    }
   }
  },
  {
   "cell_type": "code",
   "execution_count": 13,
   "outputs": [],
   "source": [
    "for col in features.columns:\n",
    "    features[col] = min_max_scaler(features[col])"
   ],
   "metadata": {
    "collapsed": false,
    "ExecuteTime": {
     "end_time": "2024-03-27T15:33:59.840371Z",
     "start_time": "2024-03-27T15:33:59.808019500Z"
    }
   }
  },
  {
   "cell_type": "code",
   "execution_count": 14,
   "outputs": [],
   "source": [
    "# Train - Test Split\n",
    "train_x, test_x, train_y, test_y = train_test_split(features, target, test_size=0.33, random_state=42)"
   ],
   "metadata": {
    "collapsed": false,
    "ExecuteTime": {
     "end_time": "2024-03-27T15:33:59.938145800Z",
     "start_time": "2024-03-27T15:33:59.920291100Z"
    }
   }
  },
  {
   "cell_type": "markdown",
   "source": [
    "## 3. Prediction"
   ],
   "metadata": {
    "collapsed": false
   }
  },
  {
   "cell_type": "code",
   "execution_count": 15,
   "outputs": [],
   "source": [
    "n_classes = train_y['class'].nunique()"
   ],
   "metadata": {
    "collapsed": false,
    "ExecuteTime": {
     "end_time": "2024-03-27T15:34:00.541262Z",
     "start_time": "2024-03-27T15:34:00.526566100Z"
    }
   }
  },
  {
   "cell_type": "code",
   "execution_count": 65,
   "outputs": [],
   "source": [
    "model = NeuralNetworkFromScratch(layers_dims=[train_x.shape[1], n_classes], task='multiple_classification', learning_rate=5e-3, n_epochs=50000, print_cost=True, initialization='He', lambd=None, keep_prob=0)"
   ],
   "metadata": {
    "collapsed": false,
    "ExecuteTime": {
     "end_time": "2024-03-27T15:42:44.633734500Z",
     "start_time": "2024-03-27T15:42:44.629622700Z"
    }
   }
  },
  {
   "cell_type": "code",
   "execution_count": null,
   "outputs": [],
   "source": [
    "parameters, costs = model.fit(train_x, train_y, print_every=5000, plot_cost_function=True)"
   ],
   "metadata": {
    "collapsed": false,
    "is_executing": true
   }
  },
  {
   "cell_type": "code",
   "execution_count": 54,
   "outputs": [
    {
     "name": "stdout",
     "output_type": "stream",
     "text": [
      "Accuracy: 0.95\n"
     ]
    }
   ],
   "source": [
    "pred_train = model.predict(train_x, train_y)"
   ],
   "metadata": {
    "collapsed": false,
    "ExecuteTime": {
     "end_time": "2024-03-27T15:40:58.905804700Z",
     "start_time": "2024-03-27T15:40:58.814102800Z"
    }
   }
  },
  {
   "cell_type": "code",
   "execution_count": 55,
   "outputs": [
    {
     "name": "stdout",
     "output_type": "stream",
     "text": [
      "Accuracy: 0.9800000000000002\n"
     ]
    }
   ],
   "source": [
    "a = model.predict(test_x, test_y)"
   ],
   "metadata": {
    "collapsed": false,
    "ExecuteTime": {
     "end_time": "2024-03-27T15:40:58.924143700Z",
     "start_time": "2024-03-27T15:40:58.901049Z"
    }
   }
  },
  {
   "cell_type": "code",
   "execution_count": null,
   "outputs": [],
   "source": [],
   "metadata": {
    "collapsed": false
   }
  }
 ],
 "metadata": {
  "kernelspec": {
   "display_name": "Python 3",
   "language": "python",
   "name": "python3"
  },
  "language_info": {
   "codemirror_mode": {
    "name": "ipython",
    "version": 2
   },
   "file_extension": ".py",
   "mimetype": "text/x-python",
   "name": "python",
   "nbconvert_exporter": "python",
   "pygments_lexer": "ipython2",
   "version": "2.7.6"
  }
 },
 "nbformat": 4,
 "nbformat_minor": 5
}
