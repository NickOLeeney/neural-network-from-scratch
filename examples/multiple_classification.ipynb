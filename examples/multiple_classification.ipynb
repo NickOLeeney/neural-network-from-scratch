{
 "cells": [
  {
   "cell_type": "code",
   "execution_count": 1,
   "id": "initial_id",
   "metadata": {
    "collapsed": true,
    "ExecuteTime": {
     "end_time": "2024-02-06T09:29:05.279403500Z",
     "start_time": "2024-02-06T09:29:03.001037Z"
    }
   },
   "outputs": [],
   "source": [
    "import pandas as pd\n",
    "from neuralNetworkFromScratch import NeuralNetworkFromScratch\n",
    "import numpy as np\n",
    "from sklearn.datasets import load_wine\n",
    "from sklearn.model_selection import train_test_split\n",
    "\n",
    "import matplotlib.pyplot as plt"
   ]
  },
  {
   "cell_type": "code",
   "execution_count": 2,
   "outputs": [],
   "source": [
    "def min_max_scaler(series):\n",
    "    normalized = (series - min(series)) / (max(series)-min(series))\n",
    "    return normalized"
   ],
   "metadata": {
    "collapsed": false,
    "ExecuteTime": {
     "end_time": "2024-02-06T09:29:05.286368200Z",
     "start_time": "2024-02-06T09:29:05.279403500Z"
    }
   }
  },
  {
   "cell_type": "markdown",
   "source": [
    "# Example 1: Simple multiple classification"
   ],
   "metadata": {
    "collapsed": false
   }
  },
  {
   "cell_type": "code",
   "execution_count": 3,
   "outputs": [],
   "source": [
    "data = load_wine()\n",
    "features = pd.DataFrame(data=data.data, columns=data.feature_names)\n",
    "target = pd.DataFrame(data=data.target, columns=['class'])\n",
    "df = pd.concat([features, target], axis=1)"
   ],
   "metadata": {
    "collapsed": false,
    "ExecuteTime": {
     "end_time": "2024-02-06T09:29:05.303902500Z",
     "start_time": "2024-02-06T09:29:05.286368200Z"
    }
   }
  },
  {
   "cell_type": "code",
   "execution_count": 4,
   "outputs": [],
   "source": [
    "for col in features.columns:\n",
    "    features[col] = min_max_scaler(features[col])"
   ],
   "metadata": {
    "collapsed": false,
    "ExecuteTime": {
     "end_time": "2024-02-06T09:29:05.334675800Z",
     "start_time": "2024-02-06T09:29:05.309238800Z"
    }
   }
  },
  {
   "cell_type": "code",
   "execution_count": 5,
   "outputs": [],
   "source": [
    "# Train - Test Split\n",
    "train_x, test_x, train_y, test_y = train_test_split(features, target, test_size=0.33, random_state=42)"
   ],
   "metadata": {
    "collapsed": false,
    "ExecuteTime": {
     "end_time": "2024-02-06T09:29:05.334675800Z",
     "start_time": "2024-02-06T09:29:05.318099Z"
    }
   }
  },
  {
   "cell_type": "markdown",
   "source": [
    "## 3. Prediction"
   ],
   "metadata": {
    "collapsed": false
   }
  },
  {
   "cell_type": "code",
   "execution_count": 44,
   "outputs": [
    {
     "data": {
      "text/plain": "13"
     },
     "execution_count": 44,
     "metadata": {},
     "output_type": "execute_result"
    }
   ],
   "source": [
    "train_x.shape[1]"
   ],
   "metadata": {
    "collapsed": false,
    "ExecuteTime": {
     "end_time": "2024-02-06T09:40:42.789533100Z",
     "start_time": "2024-02-06T09:40:42.772734700Z"
    }
   }
  },
  {
   "cell_type": "code",
   "execution_count": 6,
   "outputs": [],
   "source": [
    "n_classes = train_y['class'].nunique()"
   ],
   "metadata": {
    "collapsed": false,
    "ExecuteTime": {
     "end_time": "2024-02-06T09:29:05.341423700Z",
     "start_time": "2024-02-06T09:29:05.332724700Z"
    }
   }
  },
  {
   "cell_type": "code",
   "execution_count": 52,
   "outputs": [],
   "source": [
    "model = NeuralNetworkFromScratch(layers_dims=[train_x.shape[1], 6, n_classes], task='multiple_classification', learning_rate=1e-4, n_epochs=100000, print_cost=True)"
   ],
   "metadata": {
    "collapsed": false,
    "ExecuteTime": {
     "end_time": "2024-02-06T09:42:55.485285Z",
     "start_time": "2024-02-06T09:42:54.421654500Z"
    }
   }
  },
  {
   "cell_type": "code",
   "execution_count": 53,
   "outputs": [
    {
     "name": "stdout",
     "output_type": "stream",
     "text": [
      "Cost after iteration 0: 1.9136070469295754\n",
      "Cost after iteration 1000: 1.9127652091271021\n",
      "Cost after iteration 2000: 1.912047601578825\n",
      "Cost after iteration 3000: 1.9113842045921186\n",
      "Cost after iteration 4000: 1.9107811153689491\n",
      "Cost after iteration 5000: 1.9102497345870706\n",
      "Cost after iteration 6000: 1.909779135478153\n",
      "Cost after iteration 7000: 1.9093043130847211\n",
      "Cost after iteration 8000: 1.9088916615663631\n",
      "Cost after iteration 9000: 1.908507408119651\n",
      "Cost after iteration 10000: 1.9081536799760057\n",
      "Cost after iteration 11000: 1.9078409995419212\n",
      "Cost after iteration 12000: 1.9075559872645198\n",
      "Cost after iteration 13000: 1.907287821839111\n",
      "Cost after iteration 14000: 1.9069938338348256\n",
      "Cost after iteration 15000: 1.90671205351816\n",
      "Cost after iteration 16000: 1.9064621980770957\n",
      "Cost after iteration 17000: 1.9062323058817314\n",
      "Cost after iteration 18000: 1.9060198167637452\n",
      "Cost after iteration 19000: 1.9057885866660436\n",
      "Cost after iteration 20000: 1.9055692938932682\n",
      "Cost after iteration 21000: 1.9053695352497166\n",
      "Cost after iteration 22000: 1.905177819634087\n",
      "Cost after iteration 23000: 1.9050078892980793\n",
      "Cost after iteration 24000: 1.9048443880146904\n",
      "Cost after iteration 25000: 1.904685287649047\n",
      "Cost after iteration 26000: 1.9045243208087599\n",
      "Cost after iteration 27000: 1.9043702632557824\n",
      "Cost after iteration 28000: 1.9042222463832477\n",
      "Cost after iteration 29000: 1.9040792370724207\n",
      "Cost after iteration 30000: 1.9039372628769096\n",
      "Cost after iteration 31000: 1.9037905969922428\n",
      "Cost after iteration 32000: 1.9036463913804607\n",
      "Cost after iteration 33000: 1.9035076275413685\n",
      "Cost after iteration 34000: 1.9033819110514432\n",
      "Cost after iteration 35000: 1.9032575927950879\n",
      "Cost after iteration 36000: 1.9031343194139823\n",
      "Cost after iteration 37000: 1.903014121088668\n",
      "Cost after iteration 38000: 1.9028953415208494\n",
      "Cost after iteration 39000: 1.9027773113814994\n",
      "Cost after iteration 40000: 1.9026596888463059\n",
      "Cost after iteration 41000: 1.9025425539400882\n",
      "Cost after iteration 42000: 1.9024260038928247\n",
      "Cost after iteration 43000: 1.9022972889672196\n",
      "Cost after iteration 44000: 1.9021679081641867\n",
      "Cost after iteration 45000: 1.9020413025406295\n",
      "Cost after iteration 46000: 1.9019131994562481\n",
      "Cost after iteration 47000: 1.9017837650014973\n",
      "Cost after iteration 48000: 1.9016560079699976\n",
      "Cost after iteration 49000: 1.9015289037439518\n",
      "Cost after iteration 50000: 1.9014022897147884\n",
      "Cost after iteration 51000: 1.9012764628111494\n",
      "Cost after iteration 52000: 1.901153641886153\n",
      "Cost after iteration 53000: 1.9010313323388597\n",
      "Cost after iteration 54000: 1.9009108558347314\n",
      "Cost after iteration 55000: 1.9007914430135258\n",
      "Cost after iteration 56000: 1.9006731933268703\n",
      "Cost after iteration 57000: 1.9005567073203733\n",
      "Cost after iteration 58000: 1.9004405094273493\n",
      "Cost after iteration 59000: 1.900324589504584\n",
      "Cost after iteration 60000: 1.9002089373498783\n",
      "Cost after iteration 61000: 1.9000901868266857\n",
      "Cost after iteration 62000: 1.8999705226735912\n",
      "Cost after iteration 63000: 1.8998582927806857\n",
      "Cost after iteration 64000: 1.899746303465199\n",
      "Cost after iteration 65000: 1.8996345471718648\n",
      "Cost after iteration 66000: 1.8995214775674698\n",
      "Cost after iteration 67000: 1.8994017344798426\n",
      "Cost after iteration 68000: 1.8992823656569338\n",
      "Cost after iteration 69000: 1.8991633591918589\n",
      "Cost after iteration 70000: 1.8990447041434682\n",
      "Cost after iteration 71000: 1.8989307617796871\n",
      "Cost after iteration 72000: 1.8988190785853742\n",
      "Cost after iteration 73000: 1.8987076134752365\n",
      "Cost after iteration 74000: 1.8985963587005588\n",
      "Cost after iteration 75000: 1.8984853078035477\n",
      "Cost after iteration 76000: 1.8983745798859504\n",
      "Cost after iteration 77000: 1.8982644177996184\n",
      "Cost after iteration 78000: 1.898146520027167\n",
      "Cost after iteration 79000: 1.8980289512363235\n",
      "Cost after iteration 80000: 1.897912104538291\n",
      "Cost after iteration 81000: 1.8978031147777668\n",
      "Cost after iteration 82000: 1.897692022881927\n",
      "Cost after iteration 83000: 1.8975830586427087\n",
      "Cost after iteration 84000: 1.8974775590249688\n",
      "Cost after iteration 85000: 1.8973715371220228\n",
      "Cost after iteration 86000: 1.8972657799616968\n",
      "Cost after iteration 87000: 1.8971602714620335\n",
      "Cost after iteration 88000: 1.8970550014148997\n",
      "Cost after iteration 89000: 1.8969484072926626\n",
      "Cost after iteration 90000: 1.8968335487148562\n",
      "Cost after iteration 91000: 1.896719049232953\n",
      "Cost after iteration 92000: 1.8966048921582253\n",
      "Cost after iteration 93000: 1.896491286729399\n",
      "Cost after iteration 94000: 1.8963792280826033\n",
      "Cost after iteration 95000: 1.896265790435204\n",
      "Cost after iteration 96000: 1.8961449939900148\n",
      "Cost after iteration 97000: 1.8960245588944449\n",
      "Cost after iteration 98000: 1.8959054815946936\n",
      "Cost after iteration 99000: 1.8957872096870325\n",
      "Cost after iteration 99999: 1.8956695734775812\n"
     ]
    },
    {
     "data": {
      "text/plain": "<Figure size 640x480 with 1 Axes>",
      "image/png": "[encoded data removed]"
     },
     "metadata": {},
     "output_type": "display_data"
    }
   ],
   "source": [
    "parameters, costs = model.fit(train_x, train_y, print_every=1000, plot_cost_function=True)"
   ],
   "metadata": {
    "collapsed": false,
    "ExecuteTime": {
     "end_time": "2024-02-06T09:43:19.973216700Z",
     "start_time": "2024-02-06T09:42:56.628652200Z"
    }
   }
  },
  {
   "cell_type": "code",
   "execution_count": 54,
   "outputs": [
    {
     "name": "stdout",
     "output_type": "stream",
     "text": [
      "Accuracy: 0.43697478991596633\n"
     ]
    }
   ],
   "source": [
    "pred_train = model.predict(train_x, train_y)"
   ],
   "metadata": {
    "collapsed": false,
    "ExecuteTime": {
     "end_time": "2024-02-06T09:43:23.382780200Z",
     "start_time": "2024-02-06T09:43:23.377140500Z"
    }
   }
  },
  {
   "cell_type": "code",
   "execution_count": 55,
   "outputs": [
    {
     "name": "stdout",
     "output_type": "stream",
     "text": [
      "Accuracy: 0.4915254237288135\n"
     ]
    }
   ],
   "source": [
    "a = model.predict(test_x, test_y)"
   ],
   "metadata": {
    "collapsed": false,
    "ExecuteTime": {
     "end_time": "2024-02-06T09:43:30.836247600Z",
     "start_time": "2024-02-06T09:43:30.832779Z"
    }
   }
  },
  {
   "cell_type": "code",
   "execution_count": 31,
   "outputs": [],
   "source": [
    "Z = np.random.uniform(0,1e1, [3,10])"
   ],
   "metadata": {
    "collapsed": false,
    "ExecuteTime": {
     "end_time": "2024-02-06T09:06:57.081558900Z",
     "start_time": "2024-02-06T09:06:55.953784800Z"
    }
   }
  },
  {
   "cell_type": "code",
   "execution_count": 32,
   "outputs": [
    {
     "data": {
      "text/plain": "array([[4.31537352e-01, 2.23493181e-02, 9.00776521e-02, 9.85287795e-01,\n        4.89966299e-03, 2.28418980e-01, 6.66496901e-03, 4.40367488e-03,\n        8.16739305e-01, 1.44975048e-02],\n       [5.83706122e-04, 2.13550393e-02, 7.49691199e-01, 1.44200877e-02,\n        3.83548501e-01, 2.50276955e-02, 9.93117301e-01, 2.09719463e-01,\n        1.14147613e-04, 5.08545161e-01],\n       [5.67878942e-01, 9.56295643e-01, 1.60231149e-01, 2.92116871e-04,\n        6.11551836e-01, 7.46553324e-01, 2.17729678e-04, 7.85876862e-01,\n        1.83146547e-01, 4.76957334e-01]])"
     },
     "execution_count": 32,
     "metadata": {},
     "output_type": "execute_result"
    }
   ],
   "source": [
    "# softmax\n",
    "sum_exp = np.exp(Z).sum(axis=0)\n",
    "A = np.exp(Z) / sum_exp\n",
    "A"
   ],
   "metadata": {
    "collapsed": false,
    "ExecuteTime": {
     "end_time": "2024-02-06T09:06:57.168422Z",
     "start_time": "2024-02-06T09:06:57.163585800Z"
    }
   }
  },
  {
   "cell_type": "code",
   "execution_count": 59,
   "outputs": [
    {
     "data": {
      "text/plain": "array([[2],\n       [2],\n       [1],\n       [0],\n       [2],\n       [2],\n       [1],\n       [2],\n       [0],\n       [1]], dtype=int64)"
     },
     "execution_count": 59,
     "metadata": {},
     "output_type": "execute_result"
    }
   ],
   "source": [
    "output = []\n",
    "for col in range(0, A.shape[1]):\n",
    "    out_class = np.where(A[:,col] == max(A[:,col]))[0]\n",
    "    output.append(out_class)\n",
    "np.array(output)"
   ],
   "metadata": {
    "collapsed": false,
    "ExecuteTime": {
     "end_time": "2024-02-06T09:19:00.752001200Z",
     "start_time": "2024-02-06T09:19:00.735038400Z"
    }
   }
  },
  {
   "cell_type": "code",
   "execution_count": 12,
   "outputs": [],
   "source": [
    "AL = np.random.uniform(0,1,[3,119])\n",
    "Y = np.round((np.random.uniform(0,1,[3,119])),0)\n",
    "m = Y.shape[1]"
   ],
   "metadata": {
    "collapsed": false,
    "ExecuteTime": {
     "end_time": "2024-02-05T08:49:46.961751300Z",
     "start_time": "2024-02-05T08:49:46.960187500Z"
    }
   }
  },
  {
   "cell_type": "code",
   "execution_count": 13,
   "outputs": [],
   "source": [
    "cost = (1. / m) * (-Y* np.log(AL) - (1 - Y)* np.log(1 - AL))"
   ],
   "metadata": {
    "collapsed": false,
    "ExecuteTime": {
     "end_time": "2024-02-05T08:49:53.100664900Z",
     "start_time": "2024-02-05T08:49:53.094343400Z"
    }
   }
  },
  {
   "cell_type": "code",
   "execution_count": 16,
   "outputs": [
    {
     "data": {
      "text/plain": "3.0731787261176366"
     },
     "execution_count": 16,
     "metadata": {},
     "output_type": "execute_result"
    }
   ],
   "source": [],
   "metadata": {
    "collapsed": false,
    "ExecuteTime": {
     "end_time": "2024-02-05T08:50:19.696177800Z",
     "start_time": "2024-02-05T08:50:19.681063700Z"
    }
   }
  }
 ],
 "metadata": {
  "kernelspec": {
   "display_name": "Python 3",
   "language": "python",
   "name": "python3"
  },
  "language_info": {
   "codemirror_mode": {
    "name": "ipython",
    "version": 2
   },
   "file_extension": ".py",
   "mimetype": "text/x-python",
   "name": "python",
   "nbconvert_exporter": "python",
   "pygments_lexer": "ipython2",
   "version": "2.7.6"
  }
 },
 "nbformat": 4,
 "nbformat_minor": 5
}
